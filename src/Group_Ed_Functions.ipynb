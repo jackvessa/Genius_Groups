{
 "cells": [
  {
   "cell_type": "code",
   "execution_count": 1,
   "metadata": {},
   "outputs": [],
   "source": [
    "import numpy as np\n",
    "import pandas as pd\n",
    "from sklearn.cluster import KMeans\n",
    "%matplotlib inline\n",
    "import matplotlib.pyplot as plt\n",
    "import seaborn as sns; sns.set()  # for plot styling\n",
    "pd.options.display.max_columns = 99\n",
    "\n",
    "# Imports for NLP Analysis of Columns\n",
    "from sklearn.feature_extraction.text import TfidfVectorizer\n",
    "from sklearn.feature_extraction import text\n",
    "from sklearn.cluster import KMeans\n",
    "\n"
   ]
  },
  {
   "cell_type": "code",
   "execution_count": 2,
   "metadata": {},
   "outputs": [],
   "source": [
    "Data_Files = ['Data/One_SuperHeroes.csv','Data/All_SuperHeroes.csv']\n",
    "\n",
    "csv_file = Data_Files[0]\n",
    "sectionID = 4\n",
    "num_groups = 3\n",
    "Homogenous = True"
   ]
  },
  {
   "cell_type": "code",
   "execution_count": 3,
   "metadata": {},
   "outputs": [],
   "source": [
    "def calc_group_sizes(num_students, num_groups):\n",
    "    '''\n",
    "    Parameters\n",
    "    -----------\n",
    "    num_students : int\n",
    "        Number of students in the class\n",
    "    num_groups : int\n",
    "        Number of groups to break students into\n",
    "    \n",
    "    Returns\n",
    "    ---------\n",
    "    group_size : List of ideal group sizes\n",
    "    '''\n",
    "    group_sizes = []\n",
    "\n",
    "    class_size = num_students\n",
    "    group_num_count = num_groups\n",
    "    group_num = num_groups\n",
    "\n",
    "    for i in range(group_num_count):\n",
    "        temp = class_size // group_num\n",
    "        class_size -= temp\n",
    "        group_num -= 1\n",
    "        group_sizes.append(temp)\n",
    "\n",
    "    return group_sizes"
   ]
  },
  {
   "cell_type": "code",
   "execution_count": 4,
   "metadata": {},
   "outputs": [],
   "source": [
    "def clean_file(dataframe,sectionID):\n",
    "    '''\n",
    "    Clean CSV file\n",
    "    --------------------\n",
    "\n",
    "    Parameters\n",
    "    -----------\n",
    "    .csv file :\n",
    "    sectionID : Class/Period Number to Group\n",
    "\n",
    "    Returns\n",
    "    ---------\n",
    "    Pandas DataFrame (Cleaned)\n",
    "    '''\n",
    "    sectionID = str(sectionID)\n",
    "    \n",
    "    df = dataframe\n",
    "    df.set_index(keys=df['name'],inplace=True)\n",
    "\n",
    "    df['section'] = df.section.str.extract('(\\d+)')\n",
    "    df = df[df['section']==sectionID]\n",
    "\n",
    "    df = df.select_dtypes(exclude=['object','bool'])\n",
    "\n",
    "    df.drop(columns=['id','section_sis_id','attempt','section_id'],inplace=True)\n",
    "\n",
    "    return df"
   ]
  },
  {
   "cell_type": "code",
   "execution_count": 5,
   "metadata": {},
   "outputs": [],
   "source": [
    "def normalize_df(df):\n",
    "    '''\n",
    "    Normalize DataFrame Values from 0-1\n",
    "    \n",
    "    Parameters\n",
    "    ----------\n",
    "    df : DataFrame to Normalize\n",
    "    \n",
    "    Returns\n",
    "    -------\n",
    "    Normalized DataFrame\n",
    "    '''\n",
    "    return df.apply(lambda x: (x - np.min(x)) / (np.max(x) - np.min(x)) if np.min(x) != np.max(x) else x)\n",
    "    "
   ]
  },
  {
   "cell_type": "code",
   "execution_count": 6,
   "metadata": {},
   "outputs": [],
   "source": [
    "def add_clusters(df, num_clusters=6):\n",
    "    '''\n",
    "    Add Clusters\n",
    "    \n",
    "    Parameters\n",
    "    ----------\n",
    "    df : DataFrame to Clusterize\n",
    "    num_clusters : Number of Clusters to Create\n",
    "    \n",
    "    Returns\n",
    "    -------\n",
    "    Clusterized DataFrame\n",
    "    '''\n",
    "    df = df.copy()\n",
    "    kmeans = KMeans(num_clusters)\n",
    "    kmeans.fit(df)\n",
    "    cluster = kmeans.predict(df)\n",
    "    df['Cluster'] = cluster\n",
    "    \n",
    "    return df"
   ]
  },
  {
   "cell_type": "code",
   "execution_count": 7,
   "metadata": {},
   "outputs": [],
   "source": [
    "# def make_barplot(df, x_val = \"Cluster\",y_val=\"score\"):\n",
    "#     plot = sns.barplot(x = x_val, y = y_val, data = df);\n",
    "#     plot.axes.set_title(\"Mean Score of Students per Cluster\",fontsize=20,weight=\"bold\")\n",
    "#     plot.axes.set_xlabel(\"Cluster\",fontsize=20,weight=\"bold\")\n",
    "#     plot.axes.set_ylabel(\"Mean Score\",fontsize=20,weight=\"bold\")\n",
    "#     plot.tick_params(labelsize=15)\n",
    "#     # plot.figsize=(12,12)"
   ]
  },
  {
   "cell_type": "code",
   "execution_count": 8,
   "metadata": {},
   "outputs": [],
   "source": [
    "# def make_countplot(df, x_val = 'Cluster'):\n",
    "#     plot = sns.countplot(x = x_val, data = df);\n",
    "#     plot.axes.set_title(\"Frequency of Students per Cluster\",fontsize=20,weight=\"bold\")\n",
    "#     plot.axes.set_xlabel(\"Cluster\",fontsize=20,weight=\"bold\")\n",
    "#     plot.axes.set_ylabel(\"Frequency\",fontsize=20,weight=\"bold\")\n",
    "#     plot.tick_params(labelsize=15)"
   ]
  },
  {
   "cell_type": "code",
   "execution_count": 9,
   "metadata": {},
   "outputs": [],
   "source": [
    "def return_cluster_list(df,num_clusters=6):\n",
    "    '''\n",
    "    Return a List of Clustered Students\n",
    "    \n",
    "    Parameters\n",
    "    ----------\n",
    "    df : Pandas DataFrame\n",
    "    num_clusters : Number of clusters to create\n",
    "    \n",
    "    Returns\n",
    "    -------\n",
    "    \n",
    "    '''\n",
    "    cluster_list = []\n",
    "\n",
    "    for i in range(num_clusters):\n",
    "        cluster_list.append(list(df[df['Cluster']==i].index))\n",
    "\n",
    "    return cluster_list"
   ]
  },
  {
   "cell_type": "code",
   "execution_count": null,
   "metadata": {},
   "outputs": [],
   "source": []
  },
  {
   "cell_type": "code",
   "execution_count": null,
   "metadata": {},
   "outputs": [],
   "source": []
  },
  {
   "cell_type": "code",
   "execution_count": 10,
   "metadata": {},
   "outputs": [],
   "source": [
    "def generate_optimized_groups(student_df, num_iter = 100, num_groups = 6, Homogeneous = 0, criteria = 'score'):\n",
    "    '''\n",
    "\n",
    "    Parameters\n",
    "    ----------\n",
    "    student_df : DataFrame with student names as index and score column\n",
    "    num_iter : int\n",
    "        Number of Iterations to run loss function\n",
    "    num_groups : int\n",
    "        Number of groups to divide students into\n",
    "    Homogeneous : bool\n",
    "        If True, create Homogeneous (similar) groups.\n",
    "        If False, create Heterogeneous (different) groups\n",
    "\n",
    "    Returns\n",
    "    -------\n",
    "    Optimal Groups\n",
    "    '''\n",
    "    index_list = list(student_df.index)\n",
    "\n",
    "    if Homogeneous == 0:\n",
    "        ideal_loss = 9999\n",
    "    elif Homogeneous == 1:\n",
    "        ideal_loss = 0\n",
    "    num_students = len(student_df)\n",
    "\n",
    "    size_list = calc_group_sizes(num_students,num_groups)\n",
    "\n",
    "    for i in range(num_iter):\n",
    "        randomized_index_list = np.random.choice(index_list, size = len(index_list),replace=False)\n",
    "        group_set = set({})\n",
    "        index_track = 0\n",
    "        total_loss = 0\n",
    "\n",
    "        for num in size_list:\n",
    "            j = frozenset(randomized_index_list[0 + index_track:index_track+num])\n",
    "            group_set.add(j)\n",
    "            index_track += num\n",
    "\n",
    "        for group in group_set:\n",
    "            unfrozen = set(group)\n",
    "            group_loss = 0\n",
    "            avg_score = np.mean(student_df.loc[unfrozen][criteria])\n",
    "\n",
    "            for s in range(len(group)):\n",
    "                group_loss += (student_df.loc[unfrozen][criteria][s] - avg_score) ** 2\n",
    "\n",
    "            total_loss += group_loss\n",
    "\n",
    "        if Homogeneous == 0 and total_loss < ideal_loss:\n",
    "            ideal_loss = total_loss\n",
    "            best_group = group_set\n",
    "            print(\"New Best Homogeneous Group Loss:\", ideal_loss)\n",
    "\n",
    "        elif Homogeneous == 1 and total_loss > ideal_loss:\n",
    "            ideal_loss = total_loss\n",
    "            best_group = group_set\n",
    "            print(\"New Best Heterogeneous Group Loss:\", ideal_loss)\n",
    "\n",
    "    print(\"\\n\")\n",
    "    print(\"Final Best Group Loss:\", ideal_loss)\n",
    "    print(\"Final Best Grouping:\\n\")\n",
    "\n",
    "\n",
    "    for i,g in enumerate(best_group):\n",
    "        print(\"Group\",i+1)\n",
    "        print(student_df.loc[set(g)][criteria],\"\\n\")\n",
    "\n",
    "    return best_group"
   ]
  },
  {
   "cell_type": "markdown",
   "metadata": {},
   "source": [
    "# EDA!"
   ]
  },
  {
   "cell_type": "markdown",
   "metadata": {},
   "source": [
    "## Data Cleaning"
   ]
  },
  {
   "cell_type": "code",
   "execution_count": 11,
   "metadata": {},
   "outputs": [],
   "source": [
    "df = pd.read_csv('Data/One_SuperHeroes.csv',encoding = 'latin-1')"
   ]
  },
  {
   "cell_type": "code",
   "execution_count": 12,
   "metadata": {},
   "outputs": [],
   "source": [
    "zf = clean_file(df, 4)"
   ]
  },
  {
   "cell_type": "code",
   "execution_count": 13,
   "metadata": {},
   "outputs": [],
   "source": [
    "xf = clean_file(df, 6)"
   ]
  },
  {
   "cell_type": "code",
   "execution_count": 14,
   "metadata": {},
   "outputs": [],
   "source": [
    "df = pd.concat([zf, xf])"
   ]
  },
  {
   "cell_type": "code",
   "execution_count": 15,
   "metadata": {},
   "outputs": [],
   "source": [
    "df = normalize_df(df)"
   ]
  },
  {
   "cell_type": "code",
   "execution_count": 16,
   "metadata": {},
   "outputs": [
    {
     "data": {
      "text/html": [
       "<div>\n",
       "<style scoped>\n",
       "    .dataframe tbody tr th:only-of-type {\n",
       "        vertical-align: middle;\n",
       "    }\n",
       "\n",
       "    .dataframe tbody tr th {\n",
       "        vertical-align: top;\n",
       "    }\n",
       "\n",
       "    .dataframe thead th {\n",
       "        text-align: right;\n",
       "    }\n",
       "</style>\n",
       "<table border=\"1\" class=\"dataframe\">\n",
       "  <thead>\n",
       "    <tr style=\"text-align: right;\">\n",
       "      <th></th>\n",
       "      <th>1</th>\n",
       "      <th>1.1</th>\n",
       "      <th>1.2</th>\n",
       "      <th>8</th>\n",
       "      <th>5</th>\n",
       "      <th>1.3</th>\n",
       "      <th>1.4</th>\n",
       "      <th>1.5</th>\n",
       "      <th>1.6</th>\n",
       "      <th>1.7</th>\n",
       "      <th>1.8</th>\n",
       "      <th>1.9</th>\n",
       "      <th>1.10</th>\n",
       "      <th>1.11</th>\n",
       "      <th>1.12</th>\n",
       "      <th>4</th>\n",
       "      <th>1.13</th>\n",
       "      <th>1.14</th>\n",
       "      <th>1.15</th>\n",
       "      <th>1.16</th>\n",
       "      <th>4.1</th>\n",
       "      <th>1.17</th>\n",
       "      <th>1.18</th>\n",
       "      <th>n correct</th>\n",
       "      <th>n incorrect</th>\n",
       "      <th>score</th>\n",
       "    </tr>\n",
       "    <tr>\n",
       "      <th>name</th>\n",
       "      <th></th>\n",
       "      <th></th>\n",
       "      <th></th>\n",
       "      <th></th>\n",
       "      <th></th>\n",
       "      <th></th>\n",
       "      <th></th>\n",
       "      <th></th>\n",
       "      <th></th>\n",
       "      <th></th>\n",
       "      <th></th>\n",
       "      <th></th>\n",
       "      <th></th>\n",
       "      <th></th>\n",
       "      <th></th>\n",
       "      <th></th>\n",
       "      <th></th>\n",
       "      <th></th>\n",
       "      <th></th>\n",
       "      <th></th>\n",
       "      <th></th>\n",
       "      <th></th>\n",
       "      <th></th>\n",
       "      <th></th>\n",
       "      <th></th>\n",
       "      <th></th>\n",
       "    </tr>\n",
       "  </thead>\n",
       "  <tbody>\n",
       "    <tr>\n",
       "      <td>Black Widow</td>\n",
       "      <td>1.0</td>\n",
       "      <td>0.0</td>\n",
       "      <td>0.0</td>\n",
       "      <td>0.000000</td>\n",
       "      <td>0.6</td>\n",
       "      <td>1.0</td>\n",
       "      <td>0.0</td>\n",
       "      <td>1.0</td>\n",
       "      <td>0.0</td>\n",
       "      <td>1.0</td>\n",
       "      <td>1.0</td>\n",
       "      <td>0.0</td>\n",
       "      <td>0.0</td>\n",
       "      <td>0.0</td>\n",
       "      <td>1.0</td>\n",
       "      <td>1.0</td>\n",
       "      <td>1.0</td>\n",
       "      <td>0.0</td>\n",
       "      <td>1.0</td>\n",
       "      <td>0.0</td>\n",
       "      <td>0.0</td>\n",
       "      <td>1.0</td>\n",
       "      <td>1</td>\n",
       "      <td>0.0</td>\n",
       "      <td>1.0</td>\n",
       "      <td>0.000000</td>\n",
       "    </tr>\n",
       "    <tr>\n",
       "      <td>Storm</td>\n",
       "      <td>1.0</td>\n",
       "      <td>1.0</td>\n",
       "      <td>1.0</td>\n",
       "      <td>1.000000</td>\n",
       "      <td>1.0</td>\n",
       "      <td>1.0</td>\n",
       "      <td>0.0</td>\n",
       "      <td>1.0</td>\n",
       "      <td>1.0</td>\n",
       "      <td>1.0</td>\n",
       "      <td>1.0</td>\n",
       "      <td>1.0</td>\n",
       "      <td>1.0</td>\n",
       "      <td>1.0</td>\n",
       "      <td>1.0</td>\n",
       "      <td>1.0</td>\n",
       "      <td>0.0</td>\n",
       "      <td>1.0</td>\n",
       "      <td>1.0</td>\n",
       "      <td>0.0</td>\n",
       "      <td>1.0</td>\n",
       "      <td>1.0</td>\n",
       "      <td>1</td>\n",
       "      <td>0.7</td>\n",
       "      <td>0.3</td>\n",
       "      <td>0.857143</td>\n",
       "    </tr>\n",
       "    <tr>\n",
       "      <td>Ant-Man</td>\n",
       "      <td>1.0</td>\n",
       "      <td>1.0</td>\n",
       "      <td>1.0</td>\n",
       "      <td>0.666667</td>\n",
       "      <td>1.0</td>\n",
       "      <td>1.0</td>\n",
       "      <td>0.0</td>\n",
       "      <td>1.0</td>\n",
       "      <td>1.0</td>\n",
       "      <td>1.0</td>\n",
       "      <td>1.0</td>\n",
       "      <td>1.0</td>\n",
       "      <td>1.0</td>\n",
       "      <td>1.0</td>\n",
       "      <td>1.0</td>\n",
       "      <td>1.0</td>\n",
       "      <td>1.0</td>\n",
       "      <td>1.0</td>\n",
       "      <td>1.0</td>\n",
       "      <td>1.0</td>\n",
       "      <td>0.5</td>\n",
       "      <td>1.0</td>\n",
       "      <td>1</td>\n",
       "      <td>0.9</td>\n",
       "      <td>0.1</td>\n",
       "      <td>0.761905</td>\n",
       "    </tr>\n",
       "    <tr>\n",
       "      <td>Hawkman</td>\n",
       "      <td>1.0</td>\n",
       "      <td>1.0</td>\n",
       "      <td>0.0</td>\n",
       "      <td>0.333333</td>\n",
       "      <td>0.6</td>\n",
       "      <td>0.0</td>\n",
       "      <td>0.0</td>\n",
       "      <td>1.0</td>\n",
       "      <td>1.0</td>\n",
       "      <td>1.0</td>\n",
       "      <td>0.0</td>\n",
       "      <td>1.0</td>\n",
       "      <td>1.0</td>\n",
       "      <td>1.0</td>\n",
       "      <td>0.0</td>\n",
       "      <td>1.0</td>\n",
       "      <td>0.0</td>\n",
       "      <td>1.0</td>\n",
       "      <td>1.0</td>\n",
       "      <td>1.0</td>\n",
       "      <td>0.0</td>\n",
       "      <td>1.0</td>\n",
       "      <td>1</td>\n",
       "      <td>0.3</td>\n",
       "      <td>0.7</td>\n",
       "      <td>0.238095</td>\n",
       "    </tr>\n",
       "    <tr>\n",
       "      <td>Beast</td>\n",
       "      <td>1.0</td>\n",
       "      <td>1.0</td>\n",
       "      <td>1.0</td>\n",
       "      <td>0.666667</td>\n",
       "      <td>0.6</td>\n",
       "      <td>0.0</td>\n",
       "      <td>0.0</td>\n",
       "      <td>1.0</td>\n",
       "      <td>1.0</td>\n",
       "      <td>1.0</td>\n",
       "      <td>1.0</td>\n",
       "      <td>1.0</td>\n",
       "      <td>1.0</td>\n",
       "      <td>0.0</td>\n",
       "      <td>1.0</td>\n",
       "      <td>1.0</td>\n",
       "      <td>0.0</td>\n",
       "      <td>1.0</td>\n",
       "      <td>1.0</td>\n",
       "      <td>0.0</td>\n",
       "      <td>1.0</td>\n",
       "      <td>1.0</td>\n",
       "      <td>1</td>\n",
       "      <td>0.5</td>\n",
       "      <td>0.5</td>\n",
       "      <td>0.571429</td>\n",
       "    </tr>\n",
       "  </tbody>\n",
       "</table>\n",
       "</div>"
      ],
      "text/plain": [
       "               1  1.1  1.2         8    5  1.3  1.4  1.5  1.6  1.7  1.8  1.9  \\\n",
       "name                                                                           \n",
       "Black Widow  1.0  0.0  0.0  0.000000  0.6  1.0  0.0  1.0  0.0  1.0  1.0  0.0   \n",
       "Storm        1.0  1.0  1.0  1.000000  1.0  1.0  0.0  1.0  1.0  1.0  1.0  1.0   \n",
       "Ant-Man      1.0  1.0  1.0  0.666667  1.0  1.0  0.0  1.0  1.0  1.0  1.0  1.0   \n",
       "Hawkman      1.0  1.0  0.0  0.333333  0.6  0.0  0.0  1.0  1.0  1.0  0.0  1.0   \n",
       "Beast        1.0  1.0  1.0  0.666667  0.6  0.0  0.0  1.0  1.0  1.0  1.0  1.0   \n",
       "\n",
       "             1.10  1.11  1.12    4  1.13  1.14  1.15  1.16  4.1  1.17  1.18  \\\n",
       "name                                                                          \n",
       "Black Widow   0.0   0.0   1.0  1.0   1.0   0.0   1.0   0.0  0.0   1.0     1   \n",
       "Storm         1.0   1.0   1.0  1.0   0.0   1.0   1.0   0.0  1.0   1.0     1   \n",
       "Ant-Man       1.0   1.0   1.0  1.0   1.0   1.0   1.0   1.0  0.5   1.0     1   \n",
       "Hawkman       1.0   1.0   0.0  1.0   0.0   1.0   1.0   1.0  0.0   1.0     1   \n",
       "Beast         1.0   0.0   1.0  1.0   0.0   1.0   1.0   0.0  1.0   1.0     1   \n",
       "\n",
       "             n correct  n incorrect     score  \n",
       "name                                           \n",
       "Black Widow        0.0          1.0  0.000000  \n",
       "Storm              0.7          0.3  0.857143  \n",
       "Ant-Man            0.9          0.1  0.761905  \n",
       "Hawkman            0.3          0.7  0.238095  \n",
       "Beast              0.5          0.5  0.571429  "
      ]
     },
     "execution_count": 16,
     "metadata": {},
     "output_type": "execute_result"
    }
   ],
   "source": [
    "df.head()"
   ]
  },
  {
   "cell_type": "markdown",
   "metadata": {},
   "source": [
    "## DataFrame Overview"
   ]
  },
  {
   "cell_type": "code",
   "execution_count": 17,
   "metadata": {
    "scrolled": true
   },
   "outputs": [
    {
     "data": {
      "text/html": [
       "<div>\n",
       "<style scoped>\n",
       "    .dataframe tbody tr th:only-of-type {\n",
       "        vertical-align: middle;\n",
       "    }\n",
       "\n",
       "    .dataframe tbody tr th {\n",
       "        vertical-align: top;\n",
       "    }\n",
       "\n",
       "    .dataframe thead th {\n",
       "        text-align: right;\n",
       "    }\n",
       "</style>\n",
       "<table border=\"1\" class=\"dataframe\">\n",
       "  <thead>\n",
       "    <tr style=\"text-align: right;\">\n",
       "      <th></th>\n",
       "      <th>1</th>\n",
       "      <th>1.1</th>\n",
       "      <th>1.2</th>\n",
       "      <th>8</th>\n",
       "      <th>5</th>\n",
       "      <th>1.3</th>\n",
       "      <th>1.4</th>\n",
       "      <th>1.5</th>\n",
       "      <th>1.6</th>\n",
       "      <th>1.7</th>\n",
       "      <th>1.8</th>\n",
       "      <th>1.9</th>\n",
       "      <th>1.10</th>\n",
       "      <th>1.11</th>\n",
       "      <th>1.12</th>\n",
       "      <th>4</th>\n",
       "      <th>1.13</th>\n",
       "      <th>1.14</th>\n",
       "      <th>1.15</th>\n",
       "      <th>1.16</th>\n",
       "      <th>4.1</th>\n",
       "      <th>1.17</th>\n",
       "      <th>1.18</th>\n",
       "      <th>n correct</th>\n",
       "      <th>n incorrect</th>\n",
       "      <th>score</th>\n",
       "    </tr>\n",
       "  </thead>\n",
       "  <tbody>\n",
       "    <tr>\n",
       "      <td>count</td>\n",
       "      <td>40.00000</td>\n",
       "      <td>40.000000</td>\n",
       "      <td>40.000000</td>\n",
       "      <td>40.000000</td>\n",
       "      <td>40.000</td>\n",
       "      <td>40.000000</td>\n",
       "      <td>40.000000</td>\n",
       "      <td>40.000000</td>\n",
       "      <td>40.000000</td>\n",
       "      <td>40.00000</td>\n",
       "      <td>40.000000</td>\n",
       "      <td>40.000000</td>\n",
       "      <td>40.000000</td>\n",
       "      <td>40.000000</td>\n",
       "      <td>40.000000</td>\n",
       "      <td>40.000000</td>\n",
       "      <td>40.000000</td>\n",
       "      <td>40.000000</td>\n",
       "      <td>40.000000</td>\n",
       "      <td>40.000000</td>\n",
       "      <td>40.000000</td>\n",
       "      <td>40.000000</td>\n",
       "      <td>40.0</td>\n",
       "      <td>40.000000</td>\n",
       "      <td>40.000000</td>\n",
       "      <td>40.000000</td>\n",
       "    </tr>\n",
       "    <tr>\n",
       "      <td>mean</td>\n",
       "      <td>0.85000</td>\n",
       "      <td>0.975000</td>\n",
       "      <td>0.750000</td>\n",
       "      <td>0.750000</td>\n",
       "      <td>0.770</td>\n",
       "      <td>0.750000</td>\n",
       "      <td>0.575000</td>\n",
       "      <td>0.800000</td>\n",
       "      <td>0.725000</td>\n",
       "      <td>0.85000</td>\n",
       "      <td>0.950000</td>\n",
       "      <td>0.750000</td>\n",
       "      <td>0.925000</td>\n",
       "      <td>0.700000</td>\n",
       "      <td>0.950000</td>\n",
       "      <td>0.783333</td>\n",
       "      <td>0.600000</td>\n",
       "      <td>0.900000</td>\n",
       "      <td>0.825000</td>\n",
       "      <td>0.700000</td>\n",
       "      <td>0.831250</td>\n",
       "      <td>0.825000</td>\n",
       "      <td>1.0</td>\n",
       "      <td>0.630000</td>\n",
       "      <td>0.370000</td>\n",
       "      <td>0.639286</td>\n",
       "    </tr>\n",
       "    <tr>\n",
       "      <td>std</td>\n",
       "      <td>0.36162</td>\n",
       "      <td>0.158114</td>\n",
       "      <td>0.438529</td>\n",
       "      <td>0.322473</td>\n",
       "      <td>0.242</td>\n",
       "      <td>0.438529</td>\n",
       "      <td>0.500641</td>\n",
       "      <td>0.405096</td>\n",
       "      <td>0.452203</td>\n",
       "      <td>0.36162</td>\n",
       "      <td>0.220721</td>\n",
       "      <td>0.438529</td>\n",
       "      <td>0.266747</td>\n",
       "      <td>0.464095</td>\n",
       "      <td>0.220721</td>\n",
       "      <td>0.366317</td>\n",
       "      <td>0.496139</td>\n",
       "      <td>0.303822</td>\n",
       "      <td>0.384808</td>\n",
       "      <td>0.464095</td>\n",
       "      <td>0.306905</td>\n",
       "      <td>0.384808</td>\n",
       "      <td>0.0</td>\n",
       "      <td>0.245158</td>\n",
       "      <td>0.245158</td>\n",
       "      <td>0.246113</td>\n",
       "    </tr>\n",
       "    <tr>\n",
       "      <td>min</td>\n",
       "      <td>0.00000</td>\n",
       "      <td>0.000000</td>\n",
       "      <td>0.000000</td>\n",
       "      <td>0.000000</td>\n",
       "      <td>0.000</td>\n",
       "      <td>0.000000</td>\n",
       "      <td>0.000000</td>\n",
       "      <td>0.000000</td>\n",
       "      <td>0.000000</td>\n",
       "      <td>0.00000</td>\n",
       "      <td>0.000000</td>\n",
       "      <td>0.000000</td>\n",
       "      <td>0.000000</td>\n",
       "      <td>0.000000</td>\n",
       "      <td>0.000000</td>\n",
       "      <td>0.000000</td>\n",
       "      <td>0.000000</td>\n",
       "      <td>0.000000</td>\n",
       "      <td>0.000000</td>\n",
       "      <td>0.000000</td>\n",
       "      <td>0.000000</td>\n",
       "      <td>0.000000</td>\n",
       "      <td>1.0</td>\n",
       "      <td>0.000000</td>\n",
       "      <td>0.000000</td>\n",
       "      <td>0.000000</td>\n",
       "    </tr>\n",
       "    <tr>\n",
       "      <td>25%</td>\n",
       "      <td>1.00000</td>\n",
       "      <td>1.000000</td>\n",
       "      <td>0.750000</td>\n",
       "      <td>0.500000</td>\n",
       "      <td>0.600</td>\n",
       "      <td>0.750000</td>\n",
       "      <td>0.000000</td>\n",
       "      <td>1.000000</td>\n",
       "      <td>0.000000</td>\n",
       "      <td>1.00000</td>\n",
       "      <td>1.000000</td>\n",
       "      <td>0.750000</td>\n",
       "      <td>1.000000</td>\n",
       "      <td>0.000000</td>\n",
       "      <td>1.000000</td>\n",
       "      <td>0.333333</td>\n",
       "      <td>0.000000</td>\n",
       "      <td>1.000000</td>\n",
       "      <td>1.000000</td>\n",
       "      <td>0.000000</td>\n",
       "      <td>0.687500</td>\n",
       "      <td>1.000000</td>\n",
       "      <td>1.0</td>\n",
       "      <td>0.475000</td>\n",
       "      <td>0.200000</td>\n",
       "      <td>0.511905</td>\n",
       "    </tr>\n",
       "    <tr>\n",
       "      <td>50%</td>\n",
       "      <td>1.00000</td>\n",
       "      <td>1.000000</td>\n",
       "      <td>1.000000</td>\n",
       "      <td>1.000000</td>\n",
       "      <td>0.600</td>\n",
       "      <td>1.000000</td>\n",
       "      <td>1.000000</td>\n",
       "      <td>1.000000</td>\n",
       "      <td>1.000000</td>\n",
       "      <td>1.00000</td>\n",
       "      <td>1.000000</td>\n",
       "      <td>1.000000</td>\n",
       "      <td>1.000000</td>\n",
       "      <td>1.000000</td>\n",
       "      <td>1.000000</td>\n",
       "      <td>1.000000</td>\n",
       "      <td>1.000000</td>\n",
       "      <td>1.000000</td>\n",
       "      <td>1.000000</td>\n",
       "      <td>1.000000</td>\n",
       "      <td>1.000000</td>\n",
       "      <td>1.000000</td>\n",
       "      <td>1.0</td>\n",
       "      <td>0.650000</td>\n",
       "      <td>0.350000</td>\n",
       "      <td>0.666667</td>\n",
       "    </tr>\n",
       "    <tr>\n",
       "      <td>75%</td>\n",
       "      <td>1.00000</td>\n",
       "      <td>1.000000</td>\n",
       "      <td>1.000000</td>\n",
       "      <td>1.000000</td>\n",
       "      <td>1.000</td>\n",
       "      <td>1.000000</td>\n",
       "      <td>1.000000</td>\n",
       "      <td>1.000000</td>\n",
       "      <td>1.000000</td>\n",
       "      <td>1.00000</td>\n",
       "      <td>1.000000</td>\n",
       "      <td>1.000000</td>\n",
       "      <td>1.000000</td>\n",
       "      <td>1.000000</td>\n",
       "      <td>1.000000</td>\n",
       "      <td>1.000000</td>\n",
       "      <td>1.000000</td>\n",
       "      <td>1.000000</td>\n",
       "      <td>1.000000</td>\n",
       "      <td>1.000000</td>\n",
       "      <td>1.000000</td>\n",
       "      <td>1.000000</td>\n",
       "      <td>1.0</td>\n",
       "      <td>0.800000</td>\n",
       "      <td>0.525000</td>\n",
       "      <td>0.821429</td>\n",
       "    </tr>\n",
       "    <tr>\n",
       "      <td>max</td>\n",
       "      <td>1.00000</td>\n",
       "      <td>1.000000</td>\n",
       "      <td>1.000000</td>\n",
       "      <td>1.000000</td>\n",
       "      <td>1.000</td>\n",
       "      <td>1.000000</td>\n",
       "      <td>1.000000</td>\n",
       "      <td>1.000000</td>\n",
       "      <td>1.000000</td>\n",
       "      <td>1.00000</td>\n",
       "      <td>1.000000</td>\n",
       "      <td>1.000000</td>\n",
       "      <td>1.000000</td>\n",
       "      <td>1.000000</td>\n",
       "      <td>1.000000</td>\n",
       "      <td>1.000000</td>\n",
       "      <td>1.000000</td>\n",
       "      <td>1.000000</td>\n",
       "      <td>1.000000</td>\n",
       "      <td>1.000000</td>\n",
       "      <td>1.000000</td>\n",
       "      <td>1.000000</td>\n",
       "      <td>1.0</td>\n",
       "      <td>1.000000</td>\n",
       "      <td>1.000000</td>\n",
       "      <td>1.000000</td>\n",
       "    </tr>\n",
       "  </tbody>\n",
       "</table>\n",
       "</div>"
      ],
      "text/plain": [
       "              1        1.1        1.2          8       5        1.3  \\\n",
       "count  40.00000  40.000000  40.000000  40.000000  40.000  40.000000   \n",
       "mean    0.85000   0.975000   0.750000   0.750000   0.770   0.750000   \n",
       "std     0.36162   0.158114   0.438529   0.322473   0.242   0.438529   \n",
       "min     0.00000   0.000000   0.000000   0.000000   0.000   0.000000   \n",
       "25%     1.00000   1.000000   0.750000   0.500000   0.600   0.750000   \n",
       "50%     1.00000   1.000000   1.000000   1.000000   0.600   1.000000   \n",
       "75%     1.00000   1.000000   1.000000   1.000000   1.000   1.000000   \n",
       "max     1.00000   1.000000   1.000000   1.000000   1.000   1.000000   \n",
       "\n",
       "             1.4        1.5        1.6       1.7        1.8        1.9  \\\n",
       "count  40.000000  40.000000  40.000000  40.00000  40.000000  40.000000   \n",
       "mean    0.575000   0.800000   0.725000   0.85000   0.950000   0.750000   \n",
       "std     0.500641   0.405096   0.452203   0.36162   0.220721   0.438529   \n",
       "min     0.000000   0.000000   0.000000   0.00000   0.000000   0.000000   \n",
       "25%     0.000000   1.000000   0.000000   1.00000   1.000000   0.750000   \n",
       "50%     1.000000   1.000000   1.000000   1.00000   1.000000   1.000000   \n",
       "75%     1.000000   1.000000   1.000000   1.00000   1.000000   1.000000   \n",
       "max     1.000000   1.000000   1.000000   1.00000   1.000000   1.000000   \n",
       "\n",
       "            1.10       1.11       1.12          4       1.13       1.14  \\\n",
       "count  40.000000  40.000000  40.000000  40.000000  40.000000  40.000000   \n",
       "mean    0.925000   0.700000   0.950000   0.783333   0.600000   0.900000   \n",
       "std     0.266747   0.464095   0.220721   0.366317   0.496139   0.303822   \n",
       "min     0.000000   0.000000   0.000000   0.000000   0.000000   0.000000   \n",
       "25%     1.000000   0.000000   1.000000   0.333333   0.000000   1.000000   \n",
       "50%     1.000000   1.000000   1.000000   1.000000   1.000000   1.000000   \n",
       "75%     1.000000   1.000000   1.000000   1.000000   1.000000   1.000000   \n",
       "max     1.000000   1.000000   1.000000   1.000000   1.000000   1.000000   \n",
       "\n",
       "            1.15       1.16        4.1       1.17  1.18  n correct  \\\n",
       "count  40.000000  40.000000  40.000000  40.000000  40.0  40.000000   \n",
       "mean    0.825000   0.700000   0.831250   0.825000   1.0   0.630000   \n",
       "std     0.384808   0.464095   0.306905   0.384808   0.0   0.245158   \n",
       "min     0.000000   0.000000   0.000000   0.000000   1.0   0.000000   \n",
       "25%     1.000000   0.000000   0.687500   1.000000   1.0   0.475000   \n",
       "50%     1.000000   1.000000   1.000000   1.000000   1.0   0.650000   \n",
       "75%     1.000000   1.000000   1.000000   1.000000   1.0   0.800000   \n",
       "max     1.000000   1.000000   1.000000   1.000000   1.0   1.000000   \n",
       "\n",
       "       n incorrect      score  \n",
       "count    40.000000  40.000000  \n",
       "mean      0.370000   0.639286  \n",
       "std       0.245158   0.246113  \n",
       "min       0.000000   0.000000  \n",
       "25%       0.200000   0.511905  \n",
       "50%       0.350000   0.666667  \n",
       "75%       0.525000   0.821429  \n",
       "max       1.000000   1.000000  "
      ]
     },
     "execution_count": 17,
     "metadata": {},
     "output_type": "execute_result"
    }
   ],
   "source": [
    "df.describe()"
   ]
  },
  {
   "cell_type": "code",
   "execution_count": 18,
   "metadata": {},
   "outputs": [
    {
     "data": {
      "text/plain": [
       "(40, 26)"
      ]
     },
     "execution_count": 18,
     "metadata": {},
     "output_type": "execute_result"
    }
   ],
   "source": [
    "df.shape"
   ]
  },
  {
   "cell_type": "code",
   "execution_count": 19,
   "metadata": {},
   "outputs": [
    {
     "name": "stdout",
     "output_type": "stream",
     "text": [
      "<class 'pandas.core.frame.DataFrame'>\n",
      "Index: 40 entries, Black Widow to Star-Lord\n",
      "Data columns (total 26 columns):\n",
      "1              40 non-null float64\n",
      "1.1            40 non-null float64\n",
      "1.2            40 non-null float64\n",
      "8              40 non-null float64\n",
      "5              40 non-null float64\n",
      "1.3            40 non-null float64\n",
      "1.4            40 non-null float64\n",
      "1.5            40 non-null float64\n",
      "1.6            40 non-null float64\n",
      "1.7            40 non-null float64\n",
      "1.8            40 non-null float64\n",
      "1.9            40 non-null float64\n",
      "1.10           40 non-null float64\n",
      "1.11           40 non-null float64\n",
      "1.12           40 non-null float64\n",
      "4              40 non-null float64\n",
      "1.13           40 non-null float64\n",
      "1.14           40 non-null float64\n",
      "1.15           40 non-null float64\n",
      "1.16           40 non-null float64\n",
      "4.1            40 non-null float64\n",
      "1.17           40 non-null float64\n",
      "1.18           40 non-null int64\n",
      "n correct      40 non-null float64\n",
      "n incorrect    40 non-null float64\n",
      "score          40 non-null float64\n",
      "dtypes: float64(25), int64(1)\n",
      "memory usage: 8.4+ KB\n"
     ]
    }
   ],
   "source": [
    "df.info()"
   ]
  },
  {
   "cell_type": "markdown",
   "metadata": {},
   "source": [
    "## Graphs"
   ]
  },
  {
   "cell_type": "code",
   "execution_count": 20,
   "metadata": {},
   "outputs": [
    {
     "data": {
      "image/png": "[encoded data removed]",
      "text/plain": [
       "<Figure size 720x576 with 1 Axes>"
      ]
     },
     "metadata": {
      "needs_background": "light"
     },
     "output_type": "display_data"
    }
   ],
   "source": [
    "df.boxplot(column=None, by=None, ax=None, fontsize=None, \n",
    "                  rot=0, grid=True, figsize=(10,8), layout=None, return_type=None, vert = False);\n",
    "\n",
    "plt.tight_layout()"
   ]
  },
  {
   "cell_type": "code",
   "execution_count": null,
   "metadata": {},
   "outputs": [],
   "source": []
  },
  {
   "cell_type": "code",
   "execution_count": null,
   "metadata": {},
   "outputs": [],
   "source": []
  },
  {
   "cell_type": "code",
   "execution_count": null,
   "metadata": {},
   "outputs": [],
   "source": []
  },
  {
   "cell_type": "markdown",
   "metadata": {},
   "source": [
    "# NLP Clustering of Questions"
   ]
  },
  {
   "cell_type": "code",
   "execution_count": 21,
   "metadata": {},
   "outputs": [],
   "source": [
    "def create_questions_list(df, cols=['id','sis_id','section_id','section_sis_id','submitted','attempt','score','name','section']):\n",
    "    '''\n",
    "    Takes DataFrame and creates a NumPy array.\n",
    "    \n",
    "    Parameters\n",
    "    ----------\n",
    "    df : Pandas DataFrame\n",
    "    cols : list of columns to drop from DataFrame\n",
    "    \n",
    "    Returns\n",
    "    -------\n",
    "    List of Questions\n",
    "    '''\n",
    "    df.drop(columns=cols,inplace=True)\n",
    "    df = df.select_dtypes(exclude=['float'])\n",
    "    df = df.select_dtypes(exclude=['int'])\n",
    "    column_name_list = np.array(list(df.columns))\n",
    "    quest_list = []\n",
    "    for quest in column_name_list:\n",
    "        quest_list.append(quest[6:])\n",
    "    return np.array(quest_list)"
   ]
  },
  {
   "cell_type": "code",
   "execution_count": 22,
   "metadata": {},
   "outputs": [],
   "source": [
    "def cluster_question_topics(quest_list,num_clust = 3,num_top_words = 3,stop_words = [\"q\"], max_features = 50):\n",
    "    '''\n",
    "    Create clusters of questions based on word usage\n",
    "    \n",
    "    Parameters\n",
    "    ----------\n",
    "    quest_list : list of questions\n",
    "    num_clust : number of question clusters to create\n",
    "    num_top_words : number of words to display in result\n",
    "    stop_words : list of words to remove from clustering\n",
    "    max_features : number of words to include in clustering (top X by frequency)\n",
    "    \n",
    "    Returns\n",
    "    -------\n",
    "    String of results\n",
    "    Labels of Clustered Questions\n",
    "    '''\n",
    "    \n",
    "#     my_stop_words = text.ENGLISH_STOP_WORDS.union([\"ae\",\"word\",\"exam\",\"alphabetical\",\"options\",\"order\",\n",
    "#                                         \"things\",\"used\",'________','called','likely','provides','provide',\n",
    "#                                         '_____','10','correct','match','12','14','32777','isa','thing','11',\n",
    "#                                         '13','sentence','definition','suffix','suffixes','prefix','prefixes',\n",
    "#                                         'uses','terms','means','following','function','specialist',\n",
    "#                                         'position','correctly','directional','body','anatomical','plane',\n",
    "#                                         'means_________'])\n",
    "\n",
    "    my_stop_words = text.ENGLISH_STOP_WORDS.union(stop_words)\n",
    "    \n",
    "    vectorizer = TfidfVectorizer(strip_accents='ascii',stop_words=my_stop_words,max_features=max_features)\n",
    "    X = vectorizer.fit_transform(quest_list)\n",
    "    means = KMeans(num_clust,).fit(X)\n",
    "                                 \n",
    "    #print(\"Top terms per cluster:\")\n",
    "    order_centroids = means.cluster_centers_.argsort()[:, ::-1]\n",
    "    terms = vectorizer.get_feature_names()\n",
    "    \n",
    "    topics_dict = dict()\n",
    "\n",
    "    for i in range(num_clust):\n",
    "        \n",
    "        topics_dict[i] = []\n",
    "        \n",
    "        \n",
    "#         print(\"\\nCluster {}:\".format(str(i+1)))\n",
    "#         string_results += (\"\\nCluster {}:\".format(str(i+1)))\n",
    "        for ind in order_centroids[i, :num_top_words]:\n",
    "#             print(' %s' % terms[ind])\n",
    "#             string_results += (' %s' % terms[ind])\n",
    "            topics_dict[i].append(terms[ind])\n",
    "#     print(means.labels_)\n",
    "\n",
    "    return (topics_dict, np.array(means.labels_))\n"
   ]
  },
  {
   "cell_type": "code",
   "execution_count": 23,
   "metadata": {},
   "outputs": [],
   "source": [
    "def labels_to_dict(labels):\n",
    "    '''\n",
    "    Takes clustered question labels and returns dictionary with cluster as key and question #'s as values\n",
    "    \n",
    "    Parameters\n",
    "    ----------\n",
    "    labels : list of question labels\n",
    "    \n",
    "    Returns\n",
    "    -------\n",
    "    Dictionary with question cluster as key and question #'s as values\n",
    "    '''\n",
    "    quest_dict = dict()\n",
    "\n",
    "    for i, val in enumerate(labels):\n",
    "        if val in quest_dict:\n",
    "            quest_dict[val].append(i+1)\n",
    "        else:\n",
    "            quest_dict[val] = ([i+1])\n",
    "    \n",
    "    return quest_dict"
   ]
  },
  {
   "cell_type": "code",
   "execution_count": 24,
   "metadata": {},
   "outputs": [],
   "source": [
    "df = pd.read_csv('Data/One_SuperHeroes.csv',encoding = 'latin-1')"
   ]
  },
  {
   "cell_type": "code",
   "execution_count": 25,
   "metadata": {},
   "outputs": [],
   "source": [
    "q_list = create_questions_list(df)"
   ]
  },
  {
   "cell_type": "code",
   "execution_count": 26,
   "metadata": {},
   "outputs": [
    {
     "data": {
      "text/plain": [
       "array([' The structural and functional unit of all living things is the ________.',\n",
       "       ' Groups of cells that are similar in both structure and function are known as ________.',\n",
       "       ' A(n) _____________________ is a structure made up of several tissues grouped together to perform a single function.',\n",
       "       ' \\rWord Bank:\\r\\rtissue\\rsquamousåÊ\\rsimpleåÊ\\rstratifiedåÊ\\rcuboidal\\rglandular\\rtransitional\\rpseudostratified\\r\\råÊ\\r\\rOne single layer of cells is called [simple]\\rTissues specialized in secreting are called [glandular]\\rCube shaped cells are [cuboidal]\\rMany layers of cells is called [stratified]\\rA group of cells with the same specialized purpose is a [tissue]\\rA group of cells that appear to be in layers is called [pseudostratified]\\rFlat cells that cover many body parts and glands are called [squamous]\\rTissues whose cells change size and shape are [transitional]\\r\\råÊ\\r',\n",
       "       ' ', ' \\rWhat type of epithelial tissue is this?\\r\\r',\n",
       "       ' \\råÊ\\rThe tissue shown in Figure 3.3 most likely ________.\\r\\r',\n",
       "       ' \\rWhat type of epithelial tissue is this?\\r\\r',\n",
       "       ' \\rWhat type of tissue is this?\\r\\r',\n",
       "       ' åÊ________ tissue is commonly called fat.',\n",
       "       ' The cell type found in nervous tissue is the ________.',\n",
       "       ' Which of the following is NOT classified as a connective tissue?',\n",
       "       ' Bone is best described as ________.',\n",
       "       ' The type of muscle found in the walls of hollow organs, such as the stomach, and in the walls of blood vessels is ________.',\n",
       "       ' Neurons and neuroglia are components of ________.',\n",
       "       ' Match each scientific prefix, suffix, or root with its meaning.åÊ All options will be used once.',\n",
       "       ' Columnar epithelial cells line the digestive tract and parts of the respiratory system.',\n",
       "       ' Smooth muscle tissue provides for involuntary muscle movement.',\n",
       "       ' _______________ tissue makes up the skeleton of the body.',\n",
       "       ' The internal and external surfaces of the body are covered by __________________ tissue.',\n",
       "       ' \\rWhat are the four main types of tissues (alphabetical order)?\\r[connective]\\r[epithelial]\\r[muscular]\\r[nervous]\\r',\n",
       "       ' Which tissue has parallel fibers that provides strong resistance in one direction?',\n",
       "       ' Rate your understanding of the material on this exam 1-10: Why did you give yourself this rating? What are your next steps to master the concepts?'],\n",
       "      dtype='<U561')"
      ]
     },
     "execution_count": 26,
     "metadata": {},
     "output_type": "execute_result"
    }
   ],
   "source": [
    "q_list"
   ]
  },
  {
   "cell_type": "code",
   "execution_count": 27,
   "metadata": {},
   "outputs": [],
   "source": [
    "string_dict, labels = cluster_question_topics(q_list, num_clust = 3,num_top_words = 5,\n",
    "                                             stop_words = [\"\"], max_features = 50 ) ;"
   ]
  },
  {
   "cell_type": "code",
   "execution_count": 28,
   "metadata": {},
   "outputs": [
    {
     "data": {
      "text/plain": [
       "{0: ['tissue', 'body', 'called', 'connective', 'provides'],\n",
       " 1: ['________', 'walls', 'shown', 'things', 'unit'],\n",
       " 2: ['type', 'tissue', 'epithelial', 'nervous', 'tract']}"
      ]
     },
     "execution_count": 28,
     "metadata": {},
     "output_type": "execute_result"
    }
   ],
   "source": [
    "string_dict"
   ]
  },
  {
   "cell_type": "code",
   "execution_count": null,
   "metadata": {},
   "outputs": [],
   "source": []
  },
  {
   "cell_type": "code",
   "execution_count": null,
   "metadata": {},
   "outputs": [],
   "source": []
  },
  {
   "cell_type": "code",
   "execution_count": 29,
   "metadata": {},
   "outputs": [
    {
     "data": {
      "text/plain": [
       "array([1, 1, 0, 0, 0, 2, 1, 2, 2, 0, 2, 0, 1, 1, 1, 0, 2, 0, 0, 0, 0, 0,\n",
       "       0], dtype=int32)"
      ]
     },
     "execution_count": 29,
     "metadata": {},
     "output_type": "execute_result"
    }
   ],
   "source": [
    "labels"
   ]
  },
  {
   "cell_type": "code",
   "execution_count": null,
   "metadata": {},
   "outputs": [],
   "source": []
  },
  {
   "cell_type": "code",
   "execution_count": 30,
   "metadata": {},
   "outputs": [],
   "source": [
    "d_money = labels_to_dict(labels)"
   ]
  },
  {
   "cell_type": "code",
   "execution_count": 31,
   "metadata": {},
   "outputs": [
    {
     "data": {
      "text/plain": [
       "{1: [1, 2, 7, 13, 14, 15],\n",
       " 0: [3, 4, 5, 10, 12, 16, 18, 19, 20, 21, 22, 23],\n",
       " 2: [6, 8, 9, 11, 17]}"
      ]
     },
     "execution_count": 31,
     "metadata": {},
     "output_type": "execute_result"
    }
   ],
   "source": [
    "d_money"
   ]
  },
  {
   "cell_type": "code",
   "execution_count": null,
   "metadata": {},
   "outputs": [],
   "source": []
  },
  {
   "cell_type": "code",
   "execution_count": null,
   "metadata": {},
   "outputs": [],
   "source": []
  },
  {
   "cell_type": "markdown",
   "metadata": {},
   "source": [
    "## Create Student Strength/Growth Groups based on Question Cluster"
   ]
  },
  {
   "cell_type": "code",
   "execution_count": 32,
   "metadata": {},
   "outputs": [],
   "source": [
    "def make_student_growth_and_strength_df(df,sectionID,cluster_labels):\n",
    "    '''\n",
    "    Create a DataFrame that includes students strengths and growth areas for question clusters\n",
    "\n",
    "    Return a List of Clustered Students\n",
    "    \n",
    "    Parameters\n",
    "    ----------\n",
    "    df : Pandas DataFrame\n",
    "    sectionID : Section Number for Students\n",
    "    \n",
    "    Returns\n",
    "    -------\n",
    "    Pandas DataFrame with strengths and growth areas for question clusters\n",
    "    \n",
    "    '''\n",
    "    clean_df = clean_file(df,sectionID)\n",
    "    quest_num_df = clean_df.iloc[:,0:-3]\n",
    "    quest_num_df.columns = cluster_labels\n",
    "    quest_num_df_grouped = quest_num_df.groupby(quest_num_df.columns, axis=1).sum()\n",
    "    grouped_quest_normed_df = normalize_df(quest_num_df_grouped)\n",
    "    \n",
    "    x = grouped_quest_normed_df.copy().ix[0]\n",
    "    x.index[x.argmin()]\n",
    "    min_list, max_list = [], []\n",
    "\n",
    "    for i in range (len(grouped_quest_normed_df)):\n",
    "        x = grouped_quest_normed_df.ix[i]\n",
    "        \n",
    "        min_list.append(x.index[x.argmin()])\n",
    "        max_list.append(x.index[x.argmax()])\n",
    "        \n",
    "        \n",
    "    grouped_quest_normed_df['Strength Area'] = max_list\n",
    "    grouped_quest_normed_df['Growth Area'] = min_list\n",
    "    \n",
    "    return grouped_quest_normed_df\n",
    "    "
   ]
  },
  {
   "cell_type": "code",
   "execution_count": 33,
   "metadata": {},
   "outputs": [],
   "source": [
    "def generate_growth_groups(df,num_groups):\n",
    "    '''\n",
    "\n",
    "    Parameters\n",
    "    ----------\n",
    "    student_df : DataFrame with student names as index and Strength/Growth Areas included\n",
    "\n",
    "    Returns\n",
    "    -------\n",
    "    Growth Area Groups\n",
    "    '''\n",
    "    index_list = list(df.index)\n",
    "\n",
    "    cluster_focus = []\n",
    "    \n",
    "    for i in range(num_groups):\n",
    "        \n",
    "        cluster_focus.append(list(df[df['Growth Area']==i].index))\n",
    "    \n",
    "    print(\"Grouping by Growth Areas:\\n\")\n",
    "\n",
    "    for i,g in enumerate(cluster_focus):\n",
    "        print(\"Group\",i+1)\n",
    "        print(str(g)+\"\\n\")\n",
    "\n",
    "    return cluster_focus"
   ]
  },
  {
   "cell_type": "code",
   "execution_count": 34,
   "metadata": {},
   "outputs": [],
   "source": [
    "def generate_strength_groups(df,num_groups):\n",
    "    '''\n",
    "\n",
    "    Parameters\n",
    "    ----------\n",
    "    student_df : DataFrame with student names as index and Strength/Growth Areas included\n",
    "\n",
    "    Returns\n",
    "    -------\n",
    "    Growth Area Groups\n",
    "    '''\n",
    "    index_list = list(df.index)\n",
    "\n",
    "    cluster_focus = []\n",
    "    \n",
    "    for i in range(num_groups):\n",
    "        \n",
    "        cluster_focus.append(list(df[df['Strength Area']==i].index))\n",
    "    \n",
    "    print(\"Grouping by Strength Areas:\\n\")\n",
    "\n",
    "    for i,g in enumerate(cluster_focus):\n",
    "        print(\"Group\",i+1)\n",
    "        print(str(g)+\"\\n\")\n",
    "\n",
    "    return cluster_focus"
   ]
  },
  {
   "cell_type": "code",
   "execution_count": 35,
   "metadata": {},
   "outputs": [],
   "source": [
    "df = pd.read_csv('Data/One_SuperHeroes.csv',encoding = 'latin-1')"
   ]
  },
  {
   "cell_type": "code",
   "execution_count": 36,
   "metadata": {},
   "outputs": [
    {
     "name": "stderr",
     "output_type": "stream",
     "text": [
      "/Users/jackvessa/opt/anaconda3/lib/python3.7/site-packages/ipykernel_launcher.py:23: FutureWarning: \n",
      ".ix is deprecated. Please use\n",
      ".loc for label based indexing or\n",
      ".iloc for positional indexing\n",
      "\n",
      "See the documentation here:\n",
      "http://pandas.pydata.org/pandas-docs/stable/user_guide/indexing.html#ix-indexer-is-deprecated\n",
      "/Users/jackvessa/opt/anaconda3/lib/python3.7/site-packages/ipykernel_launcher.py:24: FutureWarning: \n",
      "The current behaviour of 'Series.argmin' is deprecated, use 'idxmin'\n",
      "instead.\n",
      "The behavior of 'argmin' will be corrected to return the positional\n",
      "minimum in the future. For now, use 'series.values.argmin' or\n",
      "'np.argmin(np.array(values))' to get the position of the minimum\n",
      "row.\n",
      "/Users/jackvessa/opt/anaconda3/lib/python3.7/site-packages/ipykernel_launcher.py:28: FutureWarning: \n",
      ".ix is deprecated. Please use\n",
      ".loc for label based indexing or\n",
      ".iloc for positional indexing\n",
      "\n",
      "See the documentation here:\n",
      "http://pandas.pydata.org/pandas-docs/stable/user_guide/indexing.html#ix-indexer-is-deprecated\n",
      "/Users/jackvessa/opt/anaconda3/lib/python3.7/site-packages/ipykernel_launcher.py:30: FutureWarning: \n",
      "The current behaviour of 'Series.argmin' is deprecated, use 'idxmin'\n",
      "instead.\n",
      "The behavior of 'argmin' will be corrected to return the positional\n",
      "minimum in the future. For now, use 'series.values.argmin' or\n",
      "'np.argmin(np.array(values))' to get the position of the minimum\n",
      "row.\n",
      "/Users/jackvessa/opt/anaconda3/lib/python3.7/site-packages/ipykernel_launcher.py:31: FutureWarning: \n",
      "The current behaviour of 'Series.argmax' is deprecated, use 'idxmax'\n",
      "instead.\n",
      "The behavior of 'argmax' will be corrected to return the positional\n",
      "maximum in the future. For now, use 'series.values.argmax' or\n",
      "'np.argmax(np.array(values))' to get the position of the maximum\n",
      "row.\n"
     ]
    }
   ],
   "source": [
    "xf = make_student_growth_and_strength_df(df,4,cluster_labels=labels) ;"
   ]
  },
  {
   "cell_type": "code",
   "execution_count": 37,
   "metadata": {},
   "outputs": [
    {
     "data": {
      "text/html": [
       "<div>\n",
       "<style scoped>\n",
       "    .dataframe tbody tr th:only-of-type {\n",
       "        vertical-align: middle;\n",
       "    }\n",
       "\n",
       "    .dataframe tbody tr th {\n",
       "        vertical-align: top;\n",
       "    }\n",
       "\n",
       "    .dataframe thead th {\n",
       "        text-align: right;\n",
       "    }\n",
       "</style>\n",
       "<table border=\"1\" class=\"dataframe\">\n",
       "  <thead>\n",
       "    <tr style=\"text-align: right;\">\n",
       "      <th></th>\n",
       "      <th>0</th>\n",
       "      <th>1</th>\n",
       "      <th>2</th>\n",
       "      <th>Strength Area</th>\n",
       "      <th>Growth Area</th>\n",
       "    </tr>\n",
       "    <tr>\n",
       "      <th>name</th>\n",
       "      <th></th>\n",
       "      <th></th>\n",
       "      <th></th>\n",
       "      <th></th>\n",
       "      <th></th>\n",
       "    </tr>\n",
       "  </thead>\n",
       "  <tbody>\n",
       "    <tr>\n",
       "      <td>Black Widow</td>\n",
       "      <td>0.0000</td>\n",
       "      <td>0.00</td>\n",
       "      <td>0.75</td>\n",
       "      <td>2</td>\n",
       "      <td>0</td>\n",
       "    </tr>\n",
       "    <tr>\n",
       "      <td>Storm</td>\n",
       "      <td>0.9375</td>\n",
       "      <td>0.75</td>\n",
       "      <td>0.75</td>\n",
       "      <td>0</td>\n",
       "      <td>1</td>\n",
       "    </tr>\n",
       "    <tr>\n",
       "      <td>Ant-Man</td>\n",
       "      <td>0.7500</td>\n",
       "      <td>0.75</td>\n",
       "      <td>1.00</td>\n",
       "      <td>2</td>\n",
       "      <td>0</td>\n",
       "    </tr>\n",
       "    <tr>\n",
       "      <td>Hawkman</td>\n",
       "      <td>0.3125</td>\n",
       "      <td>0.50</td>\n",
       "      <td>0.25</td>\n",
       "      <td>1</td>\n",
       "      <td>2</td>\n",
       "    </tr>\n",
       "    <tr>\n",
       "      <td>Beast</td>\n",
       "      <td>0.6875</td>\n",
       "      <td>0.50</td>\n",
       "      <td>0.50</td>\n",
       "      <td>0</td>\n",
       "      <td>1</td>\n",
       "    </tr>\n",
       "  </tbody>\n",
       "</table>\n",
       "</div>"
      ],
      "text/plain": [
       "                  0     1     2  Strength Area  Growth Area\n",
       "name                                                       \n",
       "Black Widow  0.0000  0.00  0.75              2            0\n",
       "Storm        0.9375  0.75  0.75              0            1\n",
       "Ant-Man      0.7500  0.75  1.00              2            0\n",
       "Hawkman      0.3125  0.50  0.25              1            2\n",
       "Beast        0.6875  0.50  0.50              0            1"
      ]
     },
     "execution_count": 37,
     "metadata": {},
     "output_type": "execute_result"
    }
   ],
   "source": [
    "xf.head()"
   ]
  },
  {
   "cell_type": "code",
   "execution_count": 38,
   "metadata": {},
   "outputs": [
    {
     "name": "stdout",
     "output_type": "stream",
     "text": [
      "Grouping by Growth Areas:\n",
      "\n",
      "Group 1\n",
      "['Black Widow', 'Ant-Man', 'Magneto', 'Flash', 'Colossus', 'Hulk', 'Penguin', 'Joker', 'Spiderman']\n",
      "\n",
      "Group 2\n",
      "['Storm', 'Beast', 'Thor', 'Jean Grey']\n",
      "\n",
      "Group 3\n",
      "['Hawkman', 'Hellboy', 'Loki', 'The Wasp', 'Clint Barton']\n",
      "\n"
     ]
    }
   ],
   "source": [
    "generate_growth_groups(xf,3) ;"
   ]
  },
  {
   "cell_type": "code",
   "execution_count": 39,
   "metadata": {},
   "outputs": [
    {
     "name": "stdout",
     "output_type": "stream",
     "text": [
      "Grouping by Strength Areas:\n",
      "\n",
      "Group 1\n",
      "['Storm', 'Beast', 'Colossus', 'The Wasp', 'Spiderman']\n",
      "\n",
      "Group 2\n",
      "['Hawkman', 'Hellboy', 'Loki', 'Magneto', 'Flash', 'Penguin', 'Clint Barton', 'Joker']\n",
      "\n",
      "Group 3\n",
      "['Black Widow', 'Ant-Man', 'Thor', 'Hulk', 'Jean Grey']\n",
      "\n"
     ]
    }
   ],
   "source": [
    "generate_strength_groups(xf,3) ;"
   ]
  },
  {
   "cell_type": "code",
   "execution_count": null,
   "metadata": {},
   "outputs": [],
   "source": []
  },
  {
   "cell_type": "code",
   "execution_count": null,
   "metadata": {},
   "outputs": [],
   "source": []
  },
  {
   "cell_type": "markdown",
   "metadata": {},
   "source": [
    "## Cleaning Data Scratch Work"
   ]
  },
  {
   "cell_type": "code",
   "execution_count": 40,
   "metadata": {},
   "outputs": [],
   "source": [
    "df.drop(df.index[0], inplace=True)"
   ]
  },
  {
   "cell_type": "code",
   "execution_count": 41,
   "metadata": {},
   "outputs": [
    {
     "ename": "KeyError",
     "evalue": "'Student'",
     "output_type": "error",
     "traceback": [
      "\u001b[0;31m---------------------------------------------------------------------------\u001b[0m",
      "\u001b[0;31mKeyError\u001b[0m                                  Traceback (most recent call last)",
      "\u001b[0;32m~/opt/anaconda3/lib/python3.7/site-packages/pandas/core/indexes/base.py\u001b[0m in \u001b[0;36mget_loc\u001b[0;34m(self, key, method, tolerance)\u001b[0m\n\u001b[1;32m   2896\u001b[0m             \u001b[0;32mtry\u001b[0m\u001b[0;34m:\u001b[0m\u001b[0;34m\u001b[0m\u001b[0;34m\u001b[0m\u001b[0m\n\u001b[0;32m-> 2897\u001b[0;31m                 \u001b[0;32mreturn\u001b[0m \u001b[0mself\u001b[0m\u001b[0;34m.\u001b[0m\u001b[0m_engine\u001b[0m\u001b[0;34m.\u001b[0m\u001b[0mget_loc\u001b[0m\u001b[0;34m(\u001b[0m\u001b[0mkey\u001b[0m\u001b[0;34m)\u001b[0m\u001b[0;34m\u001b[0m\u001b[0;34m\u001b[0m\u001b[0m\n\u001b[0m\u001b[1;32m   2898\u001b[0m             \u001b[0;32mexcept\u001b[0m \u001b[0mKeyError\u001b[0m\u001b[0;34m:\u001b[0m\u001b[0;34m\u001b[0m\u001b[0;34m\u001b[0m\u001b[0m\n",
      "\u001b[0;32mpandas/_libs/index.pyx\u001b[0m in \u001b[0;36mpandas._libs.index.IndexEngine.get_loc\u001b[0;34m()\u001b[0m\n",
      "\u001b[0;32mpandas/_libs/index.pyx\u001b[0m in \u001b[0;36mpandas._libs.index.IndexEngine.get_loc\u001b[0;34m()\u001b[0m\n",
      "\u001b[0;32mpandas/_libs/hashtable_class_helper.pxi\u001b[0m in \u001b[0;36mpandas._libs.hashtable.PyObjectHashTable.get_item\u001b[0;34m()\u001b[0m\n",
      "\u001b[0;32mpandas/_libs/hashtable_class_helper.pxi\u001b[0m in \u001b[0;36mpandas._libs.hashtable.PyObjectHashTable.get_item\u001b[0;34m()\u001b[0m\n",
      "\u001b[0;31mKeyError\u001b[0m: 'Student'",
      "\nDuring handling of the above exception, another exception occurred:\n",
      "\u001b[0;31mKeyError\u001b[0m                                  Traceback (most recent call last)",
      "\u001b[0;32m<ipython-input-41-881c76bdff3a>\u001b[0m in \u001b[0;36m<module>\u001b[0;34m\u001b[0m\n\u001b[0;32m----> 1\u001b[0;31m \u001b[0mdf\u001b[0m\u001b[0;34m.\u001b[0m\u001b[0mset_index\u001b[0m\u001b[0;34m(\u001b[0m\u001b[0mkeys\u001b[0m\u001b[0;34m=\u001b[0m\u001b[0mdf\u001b[0m\u001b[0;34m[\u001b[0m\u001b[0;34m'Student'\u001b[0m\u001b[0;34m]\u001b[0m\u001b[0;34m,\u001b[0m\u001b[0minplace\u001b[0m\u001b[0;34m=\u001b[0m\u001b[0;32mTrue\u001b[0m\u001b[0;34m)\u001b[0m\u001b[0;34m\u001b[0m\u001b[0;34m\u001b[0m\u001b[0m\n\u001b[0m",
      "\u001b[0;32m~/opt/anaconda3/lib/python3.7/site-packages/pandas/core/frame.py\u001b[0m in \u001b[0;36m__getitem__\u001b[0;34m(self, key)\u001b[0m\n\u001b[1;32m   2978\u001b[0m             \u001b[0;32mif\u001b[0m \u001b[0mself\u001b[0m\u001b[0;34m.\u001b[0m\u001b[0mcolumns\u001b[0m\u001b[0;34m.\u001b[0m\u001b[0mnlevels\u001b[0m \u001b[0;34m>\u001b[0m \u001b[0;36m1\u001b[0m\u001b[0;34m:\u001b[0m\u001b[0;34m\u001b[0m\u001b[0;34m\u001b[0m\u001b[0m\n\u001b[1;32m   2979\u001b[0m                 \u001b[0;32mreturn\u001b[0m \u001b[0mself\u001b[0m\u001b[0;34m.\u001b[0m\u001b[0m_getitem_multilevel\u001b[0m\u001b[0;34m(\u001b[0m\u001b[0mkey\u001b[0m\u001b[0;34m)\u001b[0m\u001b[0;34m\u001b[0m\u001b[0;34m\u001b[0m\u001b[0m\n\u001b[0;32m-> 2980\u001b[0;31m             \u001b[0mindexer\u001b[0m \u001b[0;34m=\u001b[0m \u001b[0mself\u001b[0m\u001b[0;34m.\u001b[0m\u001b[0mcolumns\u001b[0m\u001b[0;34m.\u001b[0m\u001b[0mget_loc\u001b[0m\u001b[0;34m(\u001b[0m\u001b[0mkey\u001b[0m\u001b[0;34m)\u001b[0m\u001b[0;34m\u001b[0m\u001b[0;34m\u001b[0m\u001b[0m\n\u001b[0m\u001b[1;32m   2981\u001b[0m             \u001b[0;32mif\u001b[0m \u001b[0mis_integer\u001b[0m\u001b[0;34m(\u001b[0m\u001b[0mindexer\u001b[0m\u001b[0;34m)\u001b[0m\u001b[0;34m:\u001b[0m\u001b[0;34m\u001b[0m\u001b[0;34m\u001b[0m\u001b[0m\n\u001b[1;32m   2982\u001b[0m                 \u001b[0mindexer\u001b[0m \u001b[0;34m=\u001b[0m \u001b[0;34m[\u001b[0m\u001b[0mindexer\u001b[0m\u001b[0;34m]\u001b[0m\u001b[0;34m\u001b[0m\u001b[0;34m\u001b[0m\u001b[0m\n",
      "\u001b[0;32m~/opt/anaconda3/lib/python3.7/site-packages/pandas/core/indexes/base.py\u001b[0m in \u001b[0;36mget_loc\u001b[0;34m(self, key, method, tolerance)\u001b[0m\n\u001b[1;32m   2897\u001b[0m                 \u001b[0;32mreturn\u001b[0m \u001b[0mself\u001b[0m\u001b[0;34m.\u001b[0m\u001b[0m_engine\u001b[0m\u001b[0;34m.\u001b[0m\u001b[0mget_loc\u001b[0m\u001b[0;34m(\u001b[0m\u001b[0mkey\u001b[0m\u001b[0;34m)\u001b[0m\u001b[0;34m\u001b[0m\u001b[0;34m\u001b[0m\u001b[0m\n\u001b[1;32m   2898\u001b[0m             \u001b[0;32mexcept\u001b[0m \u001b[0mKeyError\u001b[0m\u001b[0;34m:\u001b[0m\u001b[0;34m\u001b[0m\u001b[0;34m\u001b[0m\u001b[0m\n\u001b[0;32m-> 2899\u001b[0;31m                 \u001b[0;32mreturn\u001b[0m \u001b[0mself\u001b[0m\u001b[0;34m.\u001b[0m\u001b[0m_engine\u001b[0m\u001b[0;34m.\u001b[0m\u001b[0mget_loc\u001b[0m\u001b[0;34m(\u001b[0m\u001b[0mself\u001b[0m\u001b[0;34m.\u001b[0m\u001b[0m_maybe_cast_indexer\u001b[0m\u001b[0;34m(\u001b[0m\u001b[0mkey\u001b[0m\u001b[0;34m)\u001b[0m\u001b[0;34m)\u001b[0m\u001b[0;34m\u001b[0m\u001b[0;34m\u001b[0m\u001b[0m\n\u001b[0m\u001b[1;32m   2900\u001b[0m         \u001b[0mindexer\u001b[0m \u001b[0;34m=\u001b[0m \u001b[0mself\u001b[0m\u001b[0;34m.\u001b[0m\u001b[0mget_indexer\u001b[0m\u001b[0;34m(\u001b[0m\u001b[0;34m[\u001b[0m\u001b[0mkey\u001b[0m\u001b[0;34m]\u001b[0m\u001b[0;34m,\u001b[0m \u001b[0mmethod\u001b[0m\u001b[0;34m=\u001b[0m\u001b[0mmethod\u001b[0m\u001b[0;34m,\u001b[0m \u001b[0mtolerance\u001b[0m\u001b[0;34m=\u001b[0m\u001b[0mtolerance\u001b[0m\u001b[0;34m)\u001b[0m\u001b[0;34m\u001b[0m\u001b[0;34m\u001b[0m\u001b[0m\n\u001b[1;32m   2901\u001b[0m         \u001b[0;32mif\u001b[0m \u001b[0mindexer\u001b[0m\u001b[0;34m.\u001b[0m\u001b[0mndim\u001b[0m \u001b[0;34m>\u001b[0m \u001b[0;36m1\u001b[0m \u001b[0;32mor\u001b[0m \u001b[0mindexer\u001b[0m\u001b[0;34m.\u001b[0m\u001b[0msize\u001b[0m \u001b[0;34m>\u001b[0m \u001b[0;36m1\u001b[0m\u001b[0;34m:\u001b[0m\u001b[0;34m\u001b[0m\u001b[0;34m\u001b[0m\u001b[0m\n",
      "\u001b[0;32mpandas/_libs/index.pyx\u001b[0m in \u001b[0;36mpandas._libs.index.IndexEngine.get_loc\u001b[0;34m()\u001b[0m\n",
      "\u001b[0;32mpandas/_libs/index.pyx\u001b[0m in \u001b[0;36mpandas._libs.index.IndexEngine.get_loc\u001b[0;34m()\u001b[0m\n",
      "\u001b[0;32mpandas/_libs/hashtable_class_helper.pxi\u001b[0m in \u001b[0;36mpandas._libs.hashtable.PyObjectHashTable.get_item\u001b[0;34m()\u001b[0m\n",
      "\u001b[0;32mpandas/_libs/hashtable_class_helper.pxi\u001b[0m in \u001b[0;36mpandas._libs.hashtable.PyObjectHashTable.get_item\u001b[0;34m()\u001b[0m\n",
      "\u001b[0;31mKeyError\u001b[0m: 'Student'"
     ]
    }
   ],
   "source": [
    "df.set_index(keys=df['Student'],inplace=True)"
   ]
  },
  {
   "cell_type": "code",
   "execution_count": null,
   "metadata": {},
   "outputs": [],
   "source": [
    "df.drop(columns=['Student','ID','SIS User ID','SIS Login ID'],inplace=True)"
   ]
  },
  {
   "cell_type": "code",
   "execution_count": null,
   "metadata": {},
   "outputs": [],
   "source": [
    "df.drop(index = ['Test Student'], inplace=True)"
   ]
  },
  {
   "cell_type": "code",
   "execution_count": null,
   "metadata": {},
   "outputs": [],
   "source": [
    "# Parse out Section Number\n",
    "df['Section'] = int(df.Section.str.extract('(\\d+)'))"
   ]
  },
  {
   "cell_type": "code",
   "execution_count": null,
   "metadata": {},
   "outputs": [],
   "source": [
    "df = df.loc[:, df.isnull().mean() < .4]"
   ]
  },
  {
   "cell_type": "code",
   "execution_count": null,
   "metadata": {},
   "outputs": [],
   "source": [
    "df.fillna(0,inplace=True)"
   ]
  },
  {
   "cell_type": "code",
   "execution_count": null,
   "metadata": {},
   "outputs": [],
   "source": [
    "df.drop(columns=['Assignments Current Points','Assignments Final Points','Assignments Unposted Current Score','Assignments Final Score'],inplace=True)\n",
    "df.drop(columns=['Assignments Unposted Final Score','Imported Assignments Current Points','Imported Assignments Final Points','Imported Assignments Current Score'],inplace=True)\n",
    "df.drop(columns=['Imported Assignments Unposted Current Score','Unposted Final Score','Final Score','Unposted Current Score'],inplace=True)\n",
    "df.drop(columns=['Assignments Current Score','Imported Assignments Final Score','Imported Assignments Unposted Final Score','Current Points','Final Points'],inplace=True)"
   ]
  },
  {
   "cell_type": "code",
   "execution_count": null,
   "metadata": {},
   "outputs": [],
   "source": [
    "# def clean_file_all_assignments(dataframe,sectionID):\n",
    "#     '''\n",
    "#     Clean CSV file\n",
    "#     --------------------\n",
    "\n",
    "#     Parameters\n",
    "#     -----------\n",
    "#     .csv file :\n",
    "#     sectionID : Class/Period Number to Group\n",
    "\n",
    "#     Returns\n",
    "#     ---------\n",
    "#     Pandas DataFrame (Cleaned)\n",
    "#     '''\n",
    "#     sectionID = str(sectionID)\n",
    "#     df = dataframe\n",
    "#     df.drop(df.index[0], inplace=True)\n",
    "\n",
    "#     df.set_index(keys=df['Student'],inplace=True)\n",
    "#     df.drop(index = ['Test Student'], inplace=True)\n",
    "\n",
    "#     # Parse out Section Number\n",
    "#     df['Section'] = df.Section.str.extract('(\\d+)')\n",
    "#     df = df[df['Section']==sectionID]\n",
    "\n",
    "#     df.drop(columns=['Student','ID','SIS User ID','SIS Login ID'],inplace=True)\n",
    "#     df.drop(columns=['Assignments Current Points','Assignments Final Points','Assignments Unposted Current Score','Assignments Final Score'],inplace=True)\n",
    "#     df.drop(columns=['Assignments Unposted Final Score','Imported Assignments Current Points','Imported Assignments Final Points','Imported Assignments Current Score'],inplace=True)\n",
    "#     df.drop(columns=['Imported Assignments Unposted Current Score','Unposted Final Score','Final Score','Unposted Current Score'],inplace=True)\n",
    "#     df.drop(columns=['Assignments Current Score','Imported Assignments Final Score','Imported Assignments Unposted Final Score','Current Points','Final Points'],inplace=True)\n",
    "\n",
    "#     df = df.loc[:, df.isnull().mean() < .4]\n",
    "#     df.fillna(0,inplace=True)\n",
    "#     class_df = df.copy()\n",
    "#     class_df['Current Score'] = df['Current Score'].apply(lambda x: float(x))\n",
    "\n",
    "#     return class_df"
   ]
  },
  {
   "cell_type": "code",
   "execution_count": null,
   "metadata": {},
   "outputs": [],
   "source": []
  },
  {
   "cell_type": "code",
   "execution_count": null,
   "metadata": {},
   "outputs": [],
   "source": []
  },
  {
   "cell_type": "code",
   "execution_count": null,
   "metadata": {},
   "outputs": [],
   "source": []
  },
  {
   "cell_type": "code",
   "execution_count": null,
   "metadata": {},
   "outputs": [],
   "source": []
  },
  {
   "cell_type": "code",
   "execution_count": null,
   "metadata": {},
   "outputs": [],
   "source": [
    "df = clean_file_all_assignments(csv_file,'2')\n",
    "df = normalize_df(df)\n",
    "generate_optimized_groups(df, criteria = 'Current Score')"
   ]
  },
  {
   "cell_type": "code",
   "execution_count": null,
   "metadata": {},
   "outputs": [],
   "source": []
  },
  {
   "cell_type": "code",
   "execution_count": null,
   "metadata": {},
   "outputs": [],
   "source": [
    "df.head()"
   ]
  },
  {
   "cell_type": "code",
   "execution_count": null,
   "metadata": {},
   "outputs": [],
   "source": []
  },
  {
   "cell_type": "code",
   "execution_count": null,
   "metadata": {},
   "outputs": [],
   "source": []
  },
  {
   "cell_type": "code",
   "execution_count": null,
   "metadata": {},
   "outputs": [],
   "source": []
  },
  {
   "cell_type": "code",
   "execution_count": null,
   "metadata": {},
   "outputs": [],
   "source": [
    "student_df2 = clean_file(csv_file)"
   ]
  },
  {
   "cell_type": "code",
   "execution_count": null,
   "metadata": {},
   "outputs": [],
   "source": [
    "student_df = clean_file(csv_file,sectionID)"
   ]
  },
  {
   "cell_type": "code",
   "execution_count": null,
   "metadata": {},
   "outputs": [],
   "source": [
    "student_df = normalize_df(student_df)"
   ]
  },
  {
   "cell_type": "code",
   "execution_count": null,
   "metadata": {},
   "outputs": [],
   "source": [
    "student_df = add_clusters(student_df,3)"
   ]
  },
  {
   "cell_type": "code",
   "execution_count": null,
   "metadata": {},
   "outputs": [],
   "source": [
    "def return_cluster_list(df,num_groups=6):\n",
    "    cluster_list = []\n",
    "    \n",
    "    for i in range(num_groups):\n",
    "        cluster_list.append(list(student_df[student_df['Cluster']==i].index))\n",
    "        \n",
    "    return cluster_list\n",
    "        "
   ]
  },
  {
   "cell_type": "code",
   "execution_count": null,
   "metadata": {},
   "outputs": [],
   "source": [
    "return_cluster_list(student_df,3)"
   ]
  },
  {
   "cell_type": "code",
   "execution_count": null,
   "metadata": {},
   "outputs": [],
   "source": []
  },
  {
   "cell_type": "code",
   "execution_count": null,
   "metadata": {},
   "outputs": [],
   "source": []
  },
  {
   "cell_type": "code",
   "execution_count": null,
   "metadata": {},
   "outputs": [],
   "source": []
  },
  {
   "cell_type": "code",
   "execution_count": null,
   "metadata": {},
   "outputs": [],
   "source": [
    "import multiprocessing as mp\n",
    "print(\"Number of processors: \", mp.cpu_count())"
   ]
  },
  {
   "cell_type": "code",
   "execution_count": null,
   "metadata": {},
   "outputs": [],
   "source": []
  },
  {
   "cell_type": "code",
   "execution_count": null,
   "metadata": {},
   "outputs": [],
   "source": []
  },
  {
   "cell_type": "code",
   "execution_count": null,
   "metadata": {},
   "outputs": [],
   "source": []
  },
  {
   "cell_type": "code",
   "execution_count": null,
   "metadata": {},
   "outputs": [],
   "source": [
    "index_list = list(student_df.index)\n",
    "\n",
    "\n",
    "\n",
    "for i in range(10):\n",
    "    randomized_index_list = np.random.choice(index_list, size = len(index_list),replace=False)\n",
    "    group_set = set({})\n",
    "    index_track = 0\n",
    "    for num in size_list:\n",
    "        \n",
    "        j = frozenset(randomized_index_list[0 + index_track:index_track+num])\n",
    "        group_set.add(j)\n",
    "        index_track += num\n",
    "    \n",
    "    print('\\n   Group Trial:', i)\n",
    "    for group in group_set:\n",
    "        unfrozen = set(group)\n",
    "        print(unfrozen)\n",
    "#         print(unfrozen)\n",
    "    \n",
    "    \n",
    "\n",
    "\n",
    "    "
   ]
  },
  {
   "cell_type": "code",
   "execution_count": null,
   "metadata": {},
   "outputs": [],
   "source": [
    "j = set(randomized_index_list[0:3])"
   ]
  },
  {
   "cell_type": "code",
   "execution_count": null,
   "metadata": {},
   "outputs": [],
   "source": [
    "j"
   ]
  },
  {
   "cell_type": "code",
   "execution_count": null,
   "metadata": {},
   "outputs": [],
   "source": [
    "index_list"
   ]
  },
  {
   "cell_type": "code",
   "execution_count": null,
   "metadata": {},
   "outputs": [],
   "source": []
  },
  {
   "cell_type": "code",
   "execution_count": null,
   "metadata": {},
   "outputs": [],
   "source": [
    "randomized_index_list"
   ]
  },
  {
   "cell_type": "code",
   "execution_count": null,
   "metadata": {},
   "outputs": [],
   "source": [
    "# from itertools import combinations\n",
    "\n",
    "# size_of_groups = 3\n",
    "\n",
    "# for index in list(combinations(df.index,size_of_groups)):\n",
    "\n",
    "#     print(df.loc[index,:]['score'])\n",
    "#     loss = 0\n",
    "    \n",
    "#     avg_score = np.mean(df.loc[index,:]['score'])\n",
    "#     for i in range(size_of_groups):\n",
    "#         loss += (df.loc[index,:]['score'][i] - avg_score) ** 2\n",
    "#     print(\"Loss:\",loss)\n",
    "    \n",
    "#     print('\\n')\n",
    "    \n",
    "    "
   ]
  },
  {
   "cell_type": "code",
   "execution_count": null,
   "metadata": {},
   "outputs": [],
   "source": [
    "team_list = []\n",
    "\n",
    "df = student_df.copy()\n",
    "for i in range(8):\n",
    "    x = z.sample(n = 3) \n",
    "\n",
    "    team_list.append(x.index)\n"
   ]
  },
  {
   "cell_type": "code",
   "execution_count": null,
   "metadata": {},
   "outputs": [],
   "source": []
  },
  {
   "cell_type": "code",
   "execution_count": null,
   "metadata": {},
   "outputs": [],
   "source": [
    "x = pd.read_csv(csv_file, encoding = 'latin-1')\n",
    "num_clusters = 3\n",
    "data_frame, section_id = x, 4"
   ]
  },
  {
   "cell_type": "code",
   "execution_count": null,
   "metadata": {},
   "outputs": [],
   "source": [
    "\n",
    "student_df = clean_file(data_frame,section_id)\n",
    "student_df = normalize_df(student_df)\n",
    "student_df = add_clusters(student_df, num_clusters = num_clusters)\n",
    "result = return_cluster_list(student_df, num_clusters)\n",
    "groups_string = \"\"\n",
    "for i,val in enumerate(result):\n",
    "    \n",
    "    groups_string += \"<br/>Cluster \" + str(i+1) + \":<br/>\"\n",
    "    groups_string += str(list(val)) + \"<br/>\"\n",
    "    groups_string += (\"Score Range: \" +\n",
    "        str(round((np.max(student_df.loc[val]['score'])-np.min(student_df.loc[val]['score']))*100,3)) +\"%\")"
   ]
  },
  {
   "cell_type": "code",
   "execution_count": null,
   "metadata": {},
   "outputs": [],
   "source": [
    "groups_string"
   ]
  },
  {
   "cell_type": "code",
   "execution_count": null,
   "metadata": {},
   "outputs": [],
   "source": []
  },
  {
   "cell_type": "code",
   "execution_count": null,
   "metadata": {},
   "outputs": [],
   "source": [
    "# student_df.loc[['Black Widow','Storm']]"
   ]
  },
  {
   "cell_type": "code",
   "execution_count": null,
   "metadata": {},
   "outputs": [],
   "source": []
  },
  {
   "cell_type": "markdown",
   "metadata": {},
   "source": [
    "# Webscraping Anatomy Test (270 Q's)"
   ]
  },
  {
   "cell_type": "code",
   "execution_count": null,
   "metadata": {},
   "outputs": [],
   "source": [
    "# import requests \n",
    "# URL = \"https://www.proprofs.com/quiz-school/story.php?title=anatomy-physiology-final-exam-prep-test\"\n",
    "# r = requests.get(URL) \n",
    "# print(r.content) "
   ]
  },
  {
   "cell_type": "code",
   "execution_count": null,
   "metadata": {},
   "outputs": [],
   "source": [
    "# from bs4 import BeautifulSoup "
   ]
  },
  {
   "cell_type": "code",
   "execution_count": null,
   "metadata": {},
   "outputs": [],
   "source": [
    "# soup = BeautifulSoup(r.content, 'html5lib') \n",
    "# print(soup.prettify()) "
   ]
  },
  {
   "cell_type": "code",
   "execution_count": null,
   "metadata": {},
   "outputs": [],
   "source": [
    "# questions=[]  # a list to store quotes"
   ]
  },
  {
   "cell_type": "code",
   "execution_count": null,
   "metadata": {},
   "outputs": [],
   "source": [
    "# table = soup.find('div', attrs = {'class':'question-text'})"
   ]
  },
  {
   "cell_type": "code",
   "execution_count": null,
   "metadata": {},
   "outputs": [],
   "source": [
    "# for row in soup.findAll('div', attrs = {'class':'question-text'}): \n",
    "#     questions.append(row.string)"
   ]
  },
  {
   "cell_type": "code",
   "execution_count": null,
   "metadata": {},
   "outputs": [],
   "source": [
    "# num_clust = 5\n",
    "# num_top_words = 3\n",
    "\n",
    "# my_stop_words = text.ENGLISH_STOP_WORDS.union([\"ae\",\"following\"])\n",
    "\n",
    "# vectorizer = TfidfVectorizer(strip_accents='ascii',stop_words=my_stop_words,max_features=10000)\n",
    "# X = vectorizer.fit_transform(questions)\n",
    "# means = KMeans(num_clust).fit(X)\n",
    "\n",
    "# print(\"Top terms per cluster:\")\n",
    "# order_centroids = means.cluster_centers_.argsort()[:, ::-1]\n",
    "# terms = vectorizer.get_feature_names()\n",
    "# for i in range(num_clust):\n",
    "#     print(\"\\nCluster {}:\".format(str(i+1)))\n",
    "#     for ind in order_centroids[i, :num_top_words]:\n",
    "#         print(' %s' % terms[ind])\n",
    "# x= means.labels_"
   ]
  },
  {
   "cell_type": "code",
   "execution_count": null,
   "metadata": {},
   "outputs": [],
   "source": [
    "#y = pd.DataFrame(x)"
   ]
  },
  {
   "cell_type": "code",
   "execution_count": null,
   "metadata": {
    "scrolled": true
   },
   "outputs": [],
   "source": [
    "#y.groupby(by=0).size()"
   ]
  },
  {
   "cell_type": "code",
   "execution_count": null,
   "metadata": {},
   "outputs": [],
   "source": [
    "#quest_list[3]"
   ]
  },
  {
   "cell_type": "code",
   "execution_count": null,
   "metadata": {},
   "outputs": [],
   "source": [
    "# vectorizer = TfidfVectorizer(strip_accents='ascii',stop_words=my_stop_words,max_features=80)\n",
    "# ZZ = vectorizer.transform(quest_list[2:4])"
   ]
  },
  {
   "cell_type": "code",
   "execution_count": null,
   "metadata": {
    "scrolled": true
   },
   "outputs": [],
   "source": [
    "#vectorizer.get_feature_names()"
   ]
  },
  {
   "cell_type": "code",
   "execution_count": null,
   "metadata": {},
   "outputs": [],
   "source": [
    "#means.predict(ZZ)"
   ]
  }
 ],
 "metadata": {
  "kernelspec": {
   "display_name": "Python 3",
   "language": "python",
   "name": "python3"
  },
  "language_info": {
   "codemirror_mode": {
    "name": "ipython",
    "version": 3
   },
   "file_extension": ".py",
   "mimetype": "text/x-python",
   "name": "python",
   "nbconvert_exporter": "python",
   "pygments_lexer": "ipython3",
   "version": "3.7.4"
  }
 },
 "nbformat": 4,
 "nbformat_minor": 2
}
