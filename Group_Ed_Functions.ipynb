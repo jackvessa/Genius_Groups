{
 "cells": [
  {
   "cell_type": "code",
   "execution_count": 390,
   "metadata": {},
   "outputs": [],
   "source": [
    "import numpy as np\n",
    "import pandas as pd\n",
    "from sklearn.cluster import KMeans\n",
    "%matplotlib inline\n",
    "import matplotlib.pyplot as plt\n",
    "import seaborn as sns; sns.set()  # for plot styling\n",
    "pd.options.display.max_columns = 99"
   ]
  },
  {
   "cell_type": "code",
   "execution_count": 413,
   "metadata": {},
   "outputs": [],
   "source": [
    "csv_file = 'Data/Exam 2_ Tissues (Closed EB) Quiz Student Analysis Report.csv'\n",
    "# csv_file = 'Data/Exam 1_ Part 2 Quiz Student Analysis Report.csv'\n",
    "sectionID = 1453\n",
    "max_students_per_group = 20\n",
    "num_groups = 3\n",
    "Homogenous = True"
   ]
  },
  {
   "cell_type": "code",
   "execution_count": 522,
   "metadata": {},
   "outputs": [
    {
     "data": {
      "text/plain": [
       "[4, 4, 4, 5]"
      ]
     },
     "execution_count": 522,
     "metadata": {},
     "output_type": "execute_result"
    }
   ],
   "source": [
    "calc_group_sizes(17,4)"
   ]
  },
  {
   "cell_type": "code",
   "execution_count": 392,
   "metadata": {},
   "outputs": [],
   "source": [
    "def calc_group_sizes(num_students, num_groups):\n",
    "    '''\n",
    "    Parameters\n",
    "    -----------\n",
    "    num_students : int\n",
    "        Number of students in the class\n",
    "    num_groups : int\n",
    "        Number of groups to break students into\n",
    "    \n",
    "    Returns\n",
    "    ---------\n",
    "    group_size : List of ideal group sizes\n",
    "    '''\n",
    "    group_sizes = []\n",
    "\n",
    "    class_size = num_students\n",
    "    group_num_count = num_groups\n",
    "    group_num = num_groups\n",
    "\n",
    "    for i in range(group_num_count):\n",
    "        temp = class_size // group_num\n",
    "        class_size -= temp\n",
    "        group_num -= 1\n",
    "        group_sizes.append(temp)\n",
    "\n",
    "    return group_sizes"
   ]
  },
  {
   "cell_type": "code",
   "execution_count": 393,
   "metadata": {},
   "outputs": [],
   "source": [
    "def clean_file(fileName,sectionID):\n",
    "    '''\n",
    "    Clean CSV file\n",
    "    --------------------\n",
    "    \n",
    "    Parameters\n",
    "    -----------\n",
    "    .csv file : \n",
    "    sectionID : Class/Period Number to Group\n",
    "    \n",
    "    Returns\n",
    "    ---------\n",
    "    Pandas DataFrame (Cleaned)\n",
    "    '''\n",
    "    df = pd.read_csv(fileName)\n",
    "    df.set_index(keys=df['name'],inplace=True)\n",
    "    df = df.select_dtypes(exclude=['object','bool'])\n",
    "    \n",
    "    df.drop(columns=['id','section_sis_id','attempt'],inplace=True)\n",
    "    \n",
    "    class_df = df[df['section_id']==sectionID]\n",
    "\n",
    "    return class_df"
   ]
  },
  {
   "cell_type": "code",
   "execution_count": 412,
   "metadata": {},
   "outputs": [],
   "source": [
    "def normalize_df(df):\n",
    "    '''\n",
    "    Normalize DataFrame Values from 0-1\n",
    "    \n",
    "    Parameters\n",
    "    ----------\n",
    "    df : DataFrame to Normalize\n",
    "    \n",
    "    Returns\n",
    "    -------\n",
    "    Normalized DataFrame\n",
    "    '''\n",
    "    return df.apply(lambda x: (x - np.min(x)) / (np.max(x) - np.min(x)) if np.min(x) != np.max(x) else x)\n",
    "    "
   ]
  },
  {
   "cell_type": "code",
   "execution_count": 409,
   "metadata": {},
   "outputs": [],
   "source": [
    "# def add_clusters(df, num_groups=6):\n",
    "#     '''\n",
    "#     Add Clusters\n",
    "#     '''\n",
    "#     kmeans = KMeans(num_groups)\n",
    "#     kmeans.fit(df)\n",
    "#     cluster = kmeans.predict(df)\n",
    "#     df['Cluster'] = cluster\n",
    "#     return df"
   ]
  },
  {
   "cell_type": "code",
   "execution_count": 410,
   "metadata": {},
   "outputs": [],
   "source": [
    "# def make_barplot(df, x_val = \"Cluster\",y_val=\"score\"):\n",
    "#     plot = sns.barplot(x = x_val, y = y_val, data = df);\n",
    "#     plot.axes.set_title(\"Mean Score of Students per Cluster\",fontsize=20,weight=\"bold\")\n",
    "#     plot.axes.set_xlabel(\"Cluster\",fontsize=20,weight=\"bold\")\n",
    "#     plot.axes.set_ylabel(\"Mean Score\",fontsize=20,weight=\"bold\")\n",
    "#     plot.tick_params(labelsize=15)\n",
    "#     # plot.figsize=(12,12)"
   ]
  },
  {
   "cell_type": "code",
   "execution_count": 411,
   "metadata": {},
   "outputs": [],
   "source": [
    "# def make_countplot(df, x_val = 'Cluster'):\n",
    "#     plot = sns.countplot(x = x_val, data = df);\n",
    "#     plot.axes.set_title(\"Frequency of Students per Cluster\",fontsize=20,weight=\"bold\")\n",
    "#     plot.axes.set_xlabel(\"Cluster\",fontsize=20,weight=\"bold\")\n",
    "#     plot.axes.set_ylabel(\"Frequency\",fontsize=20,weight=\"bold\")\n",
    "#     plot.tick_params(labelsize=15)"
   ]
  },
  {
   "cell_type": "code",
   "execution_count": 398,
   "metadata": {},
   "outputs": [],
   "source": [
    "x = pd.read_csv(csv_file)\n",
    "x"
   ]
  },
  {
   "cell_type": "code",
   "execution_count": 400,
   "metadata": {},
   "outputs": [],
   "source": [
    "student_df = clean_file(csv_file,sectionID)"
   ]
  },
  {
   "cell_type": "code",
   "execution_count": 401,
   "metadata": {},
   "outputs": [],
   "source": [
    "student_df = normalize_df(student_df)"
   ]
  },
  {
   "cell_type": "code",
   "execution_count": 405,
   "metadata": {
    "scrolled": true
   },
   "outputs": [
    {
     "data": {
      "text/plain": [
       "(22, 27)"
      ]
     },
     "execution_count": 405,
     "metadata": {},
     "output_type": "execute_result"
    }
   ],
   "source": [
    "student_df.shape"
   ]
  },
  {
   "cell_type": "code",
   "execution_count": 408,
   "metadata": {},
   "outputs": [
    {
     "data": {
      "text/html": [
       "<div>\n",
       "<style scoped>\n",
       "    .dataframe tbody tr th:only-of-type {\n",
       "        vertical-align: middle;\n",
       "    }\n",
       "\n",
       "    .dataframe tbody tr th {\n",
       "        vertical-align: top;\n",
       "    }\n",
       "\n",
       "    .dataframe thead th {\n",
       "        text-align: right;\n",
       "    }\n",
       "</style>\n",
       "<table border=\"1\" class=\"dataframe\">\n",
       "  <thead>\n",
       "    <tr style=\"text-align: right;\">\n",
       "      <th></th>\n",
       "      <th>section_id</th>\n",
       "      <th>1.0</th>\n",
       "      <th>1.0.1</th>\n",
       "      <th>1.0.2</th>\n",
       "      <th>8.0</th>\n",
       "      <th>5.0</th>\n",
       "      <th>1.0.3</th>\n",
       "      <th>1.0.4</th>\n",
       "      <th>1.0.5</th>\n",
       "      <th>1.0.6</th>\n",
       "      <th>1.0.7</th>\n",
       "      <th>1.0.8</th>\n",
       "      <th>1.0.9</th>\n",
       "      <th>1.0.10</th>\n",
       "      <th>1.0.11</th>\n",
       "      <th>1.0.12</th>\n",
       "      <th>4.0</th>\n",
       "      <th>1.0.13</th>\n",
       "      <th>1.0.14</th>\n",
       "      <th>1.0.15</th>\n",
       "      <th>1.0.16</th>\n",
       "      <th>4.0.1</th>\n",
       "      <th>1.0.17</th>\n",
       "      <th>1.0.18</th>\n",
       "      <th>n correct</th>\n",
       "      <th>n incorrect</th>\n",
       "      <th>score</th>\n",
       "    </tr>\n",
       "    <tr>\n",
       "      <th>name</th>\n",
       "      <th></th>\n",
       "      <th></th>\n",
       "      <th></th>\n",
       "      <th></th>\n",
       "      <th></th>\n",
       "      <th></th>\n",
       "      <th></th>\n",
       "      <th></th>\n",
       "      <th></th>\n",
       "      <th></th>\n",
       "      <th></th>\n",
       "      <th></th>\n",
       "      <th></th>\n",
       "      <th></th>\n",
       "      <th></th>\n",
       "      <th></th>\n",
       "      <th></th>\n",
       "      <th></th>\n",
       "      <th></th>\n",
       "      <th></th>\n",
       "      <th></th>\n",
       "      <th></th>\n",
       "      <th></th>\n",
       "      <th></th>\n",
       "      <th></th>\n",
       "      <th></th>\n",
       "      <th></th>\n",
       "    </tr>\n",
       "  </thead>\n",
       "  <tbody>\n",
       "    <tr>\n",
       "      <th>Ruben Jr. Villalobos-Ulloa</th>\n",
       "      <td>1453</td>\n",
       "      <td>1.0</td>\n",
       "      <td>1.0</td>\n",
       "      <td>1.0</td>\n",
       "      <td>0.25</td>\n",
       "      <td>0.333333</td>\n",
       "      <td>0.0</td>\n",
       "      <td>1.0</td>\n",
       "      <td>1.0</td>\n",
       "      <td>0.0</td>\n",
       "      <td>0.0</td>\n",
       "      <td>1.0</td>\n",
       "      <td>0.0</td>\n",
       "      <td>1.0</td>\n",
       "      <td>0.0</td>\n",
       "      <td>1.0</td>\n",
       "      <td>1.000000</td>\n",
       "      <td>0.0</td>\n",
       "      <td>1.0</td>\n",
       "      <td>1.0</td>\n",
       "      <td>1.0</td>\n",
       "      <td>1.0</td>\n",
       "      <td>1.0</td>\n",
       "      <td>1.0</td>\n",
       "      <td>0.0</td>\n",
       "      <td>1.0</td>\n",
       "      <td>0.357143</td>\n",
       "    </tr>\n",
       "    <tr>\n",
       "      <th>Iran Valladares-Fuentes</th>\n",
       "      <td>1453</td>\n",
       "      <td>1.0</td>\n",
       "      <td>1.0</td>\n",
       "      <td>1.0</td>\n",
       "      <td>1.00</td>\n",
       "      <td>1.000000</td>\n",
       "      <td>0.0</td>\n",
       "      <td>1.0</td>\n",
       "      <td>0.0</td>\n",
       "      <td>1.0</td>\n",
       "      <td>1.0</td>\n",
       "      <td>1.0</td>\n",
       "      <td>1.0</td>\n",
       "      <td>1.0</td>\n",
       "      <td>1.0</td>\n",
       "      <td>1.0</td>\n",
       "      <td>1.000000</td>\n",
       "      <td>1.0</td>\n",
       "      <td>1.0</td>\n",
       "      <td>0.0</td>\n",
       "      <td>1.0</td>\n",
       "      <td>1.0</td>\n",
       "      <td>1.0</td>\n",
       "      <td>1.0</td>\n",
       "      <td>0.6</td>\n",
       "      <td>0.4</td>\n",
       "      <td>0.928571</td>\n",
       "    </tr>\n",
       "    <tr>\n",
       "      <th>Janet Sanchez</th>\n",
       "      <td>1453</td>\n",
       "      <td>1.0</td>\n",
       "      <td>1.0</td>\n",
       "      <td>1.0</td>\n",
       "      <td>0.75</td>\n",
       "      <td>0.000000</td>\n",
       "      <td>1.0</td>\n",
       "      <td>1.0</td>\n",
       "      <td>1.0</td>\n",
       "      <td>0.0</td>\n",
       "      <td>1.0</td>\n",
       "      <td>1.0</td>\n",
       "      <td>0.0</td>\n",
       "      <td>1.0</td>\n",
       "      <td>1.0</td>\n",
       "      <td>1.0</td>\n",
       "      <td>1.000000</td>\n",
       "      <td>1.0</td>\n",
       "      <td>1.0</td>\n",
       "      <td>1.0</td>\n",
       "      <td>1.0</td>\n",
       "      <td>0.5</td>\n",
       "      <td>1.0</td>\n",
       "      <td>1.0</td>\n",
       "      <td>0.8</td>\n",
       "      <td>0.2</td>\n",
       "      <td>0.571429</td>\n",
       "    </tr>\n",
       "    <tr>\n",
       "      <th>Abril Rodriguez</th>\n",
       "      <td>1453</td>\n",
       "      <td>1.0</td>\n",
       "      <td>1.0</td>\n",
       "      <td>1.0</td>\n",
       "      <td>1.00</td>\n",
       "      <td>1.000000</td>\n",
       "      <td>1.0</td>\n",
       "      <td>0.0</td>\n",
       "      <td>1.0</td>\n",
       "      <td>1.0</td>\n",
       "      <td>1.0</td>\n",
       "      <td>1.0</td>\n",
       "      <td>1.0</td>\n",
       "      <td>1.0</td>\n",
       "      <td>1.0</td>\n",
       "      <td>1.0</td>\n",
       "      <td>0.333333</td>\n",
       "      <td>0.0</td>\n",
       "      <td>1.0</td>\n",
       "      <td>1.0</td>\n",
       "      <td>1.0</td>\n",
       "      <td>1.0</td>\n",
       "      <td>1.0</td>\n",
       "      <td>1.0</td>\n",
       "      <td>0.8</td>\n",
       "      <td>0.2</td>\n",
       "      <td>0.857143</td>\n",
       "    </tr>\n",
       "    <tr>\n",
       "      <th>Ricardo Perez</th>\n",
       "      <td>1453</td>\n",
       "      <td>1.0</td>\n",
       "      <td>1.0</td>\n",
       "      <td>1.0</td>\n",
       "      <td>1.00</td>\n",
       "      <td>0.333333</td>\n",
       "      <td>1.0</td>\n",
       "      <td>1.0</td>\n",
       "      <td>0.0</td>\n",
       "      <td>1.0</td>\n",
       "      <td>1.0</td>\n",
       "      <td>1.0</td>\n",
       "      <td>0.0</td>\n",
       "      <td>1.0</td>\n",
       "      <td>1.0</td>\n",
       "      <td>1.0</td>\n",
       "      <td>1.000000</td>\n",
       "      <td>0.0</td>\n",
       "      <td>1.0</td>\n",
       "      <td>1.0</td>\n",
       "      <td>1.0</td>\n",
       "      <td>0.5</td>\n",
       "      <td>0.0</td>\n",
       "      <td>1.0</td>\n",
       "      <td>0.4</td>\n",
       "      <td>0.6</td>\n",
       "      <td>0.571429</td>\n",
       "    </tr>\n",
       "  </tbody>\n",
       "</table>\n",
       "</div>"
      ],
      "text/plain": [
       "                            section_id  1.0  1.0.1  1.0.2   8.0       5.0  \\\n",
       "name                                                                        \n",
       "Ruben Jr. Villalobos-Ulloa        1453  1.0    1.0    1.0  0.25  0.333333   \n",
       "Iran Valladares-Fuentes           1453  1.0    1.0    1.0  1.00  1.000000   \n",
       "Janet Sanchez                     1453  1.0    1.0    1.0  0.75  0.000000   \n",
       "Abril Rodriguez                   1453  1.0    1.0    1.0  1.00  1.000000   \n",
       "Ricardo Perez                     1453  1.0    1.0    1.0  1.00  0.333333   \n",
       "\n",
       "                            1.0.3  1.0.4  1.0.5  1.0.6  1.0.7  1.0.8  1.0.9  \\\n",
       "name                                                                          \n",
       "Ruben Jr. Villalobos-Ulloa    0.0    1.0    1.0    0.0    0.0    1.0    0.0   \n",
       "Iran Valladares-Fuentes       0.0    1.0    0.0    1.0    1.0    1.0    1.0   \n",
       "Janet Sanchez                 1.0    1.0    1.0    0.0    1.0    1.0    0.0   \n",
       "Abril Rodriguez               1.0    0.0    1.0    1.0    1.0    1.0    1.0   \n",
       "Ricardo Perez                 1.0    1.0    0.0    1.0    1.0    1.0    0.0   \n",
       "\n",
       "                            1.0.10  1.0.11  1.0.12       4.0  1.0.13  1.0.14  \\\n",
       "name                                                                           \n",
       "Ruben Jr. Villalobos-Ulloa     1.0     0.0     1.0  1.000000     0.0     1.0   \n",
       "Iran Valladares-Fuentes        1.0     1.0     1.0  1.000000     1.0     1.0   \n",
       "Janet Sanchez                  1.0     1.0     1.0  1.000000     1.0     1.0   \n",
       "Abril Rodriguez                1.0     1.0     1.0  0.333333     0.0     1.0   \n",
       "Ricardo Perez                  1.0     1.0     1.0  1.000000     0.0     1.0   \n",
       "\n",
       "                            1.0.15  1.0.16  4.0.1  1.0.17  1.0.18  n correct  \\\n",
       "name                                                                           \n",
       "Ruben Jr. Villalobos-Ulloa     1.0     1.0    1.0     1.0     1.0        0.0   \n",
       "Iran Valladares-Fuentes        0.0     1.0    1.0     1.0     1.0        0.6   \n",
       "Janet Sanchez                  1.0     1.0    0.5     1.0     1.0        0.8   \n",
       "Abril Rodriguez                1.0     1.0    1.0     1.0     1.0        0.8   \n",
       "Ricardo Perez                  1.0     1.0    0.5     0.0     1.0        0.4   \n",
       "\n",
       "                            n incorrect     score  \n",
       "name                                               \n",
       "Ruben Jr. Villalobos-Ulloa          1.0  0.357143  \n",
       "Iran Valladares-Fuentes             0.4  0.928571  \n",
       "Janet Sanchez                       0.2  0.571429  \n",
       "Abril Rodriguez                     0.2  0.857143  \n",
       "Ricardo Perez                       0.6  0.571429  "
      ]
     },
     "execution_count": 408,
     "metadata": {},
     "output_type": "execute_result"
    }
   ],
   "source": [
    "student_df.head()"
   ]
  },
  {
   "cell_type": "code",
   "execution_count": null,
   "metadata": {},
   "outputs": [],
   "source": []
  },
  {
   "cell_type": "code",
   "execution_count": 539,
   "metadata": {},
   "outputs": [
    {
     "data": {
      "text/plain": [
       "[3, 3, 4, 4, 4, 4]"
      ]
     },
     "execution_count": 539,
     "metadata": {},
     "output_type": "execute_result"
    }
   ],
   "source": [
    "size_list = calc_group_sizes(22,6)\n",
    "size_list"
   ]
  },
  {
   "cell_type": "code",
   "execution_count": null,
   "metadata": {},
   "outputs": [],
   "source": []
  },
  {
   "cell_type": "code",
   "execution_count": 556,
   "metadata": {},
   "outputs": [
    {
     "name": "stdout",
     "output_type": "stream",
     "text": [
      "\n",
      "   Group Trial: 0\n",
      "{'Jacqueline Barajas', 'Briana Franco', 'Jessie Lorenzo'}\n",
      "{'Janet Sanchez', 'Esther Lopez', 'Clarissa Dimas'}\n",
      "{'Alejandra Benavides Fuentes', 'Monserrat Garcia', 'Abril Rodriguez', 'Sara Madriz'}\n",
      "{'Kelly Argueta', 'Noemi Franco', 'Stephanie Abarca-Lopez', 'Prab Kaur Chhina'}\n",
      "{'Ruben Jr. Villalobos-Ulloa', 'Johnathan Conrique', 'Ricardo Perez', 'Iran Valladares-Fuentes'}\n",
      "{'Ricardo Marquez', 'Edgar Cabrera', 'Eric Medrano', 'Alondra Romero'}\n",
      "\n",
      "   Group Trial: 1\n",
      "{'Janet Sanchez', 'Kelly Argueta', 'Monserrat Garcia', 'Sara Madriz'}\n",
      "{'Abril Rodriguez', 'Ruben Jr. Villalobos-Ulloa', 'Iran Valladares-Fuentes'}\n",
      "{'Ricardo Marquez', 'Ricardo Perez', 'Eric Medrano', 'Jessie Lorenzo'}\n",
      "{'Alejandra Benavides Fuentes', 'Noemi Franco', 'Edgar Cabrera', 'Stephanie Abarca-Lopez'}\n",
      "{'Johnathan Conrique', 'Esther Lopez', 'Prab Kaur Chhina'}\n",
      "{'Clarissa Dimas', 'Jacqueline Barajas', 'Briana Franco', 'Alondra Romero'}\n",
      "\n",
      "   Group Trial: 2\n",
      "{'Alejandra Benavides Fuentes', 'Kelly Argueta', 'Jessie Lorenzo'}\n",
      "{'Ruben Jr. Villalobos-Ulloa', 'Edgar Cabrera', 'Jacqueline Barajas', 'Alondra Romero'}\n",
      "{'Ricardo Marquez', 'Johnathan Conrique', 'Esther Lopez', 'Ricardo Perez'}\n",
      "{'Abril Rodriguez', 'Janet Sanchez', 'Iran Valladares-Fuentes'}\n",
      "{'Clarissa Dimas', 'Monserrat Garcia', 'Eric Medrano', 'Stephanie Abarca-Lopez'}\n",
      "{'Prab Kaur Chhina', 'Noemi Franco', 'Briana Franco', 'Sara Madriz'}\n",
      "\n",
      "   Group Trial: 3\n",
      "{'Janet Sanchez', 'Clarissa Dimas', 'Jacqueline Barajas', 'Monserrat Garcia'}\n",
      "{'Johnathan Conrique', 'Esther Lopez', 'Noemi Franco', 'Prab Kaur Chhina'}\n",
      "{'Ricardo Marquez', 'Briana Franco', 'Jessie Lorenzo'}\n",
      "{'Ruben Jr. Villalobos-Ulloa', 'Eric Medrano', 'Sara Madriz'}\n",
      "{'Kelly Argueta', 'Ricardo Perez', 'Edgar Cabrera', 'Iran Valladares-Fuentes'}\n",
      "{'Abril Rodriguez', 'Alejandra Benavides Fuentes', 'Stephanie Abarca-Lopez', 'Alondra Romero'}\n",
      "\n",
      "   Group Trial: 4\n",
      "{'Clarissa Dimas', 'Alejandra Benavides Fuentes', 'Ricardo Perez', 'Jacqueline Barajas'}\n",
      "{'Johnathan Conrique', 'Monserrat Garcia', 'Iran Valladares-Fuentes', 'Jessie Lorenzo'}\n",
      "{'Ricardo Marquez', 'Janet Sanchez', 'Esther Lopez'}\n",
      "{'Ruben Jr. Villalobos-Ulloa', 'Briana Franco', 'Eric Medrano'}\n",
      "{'Sara Madriz', 'Edgar Cabrera', 'Stephanie Abarca-Lopez', 'Alondra Romero'}\n",
      "{'Abril Rodriguez', 'Kelly Argueta', 'Noemi Franco', 'Prab Kaur Chhina'}\n",
      "\n",
      "   Group Trial: 5\n",
      "{'Johnathan Conrique', 'Eric Medrano', 'Jessie Lorenzo', 'Alondra Romero'}\n",
      "{'Alejandra Benavides Fuentes', 'Abril Rodriguez', 'Kelly Argueta', 'Iran Valladares-Fuentes'}\n",
      "{'Ricardo Marquez', 'Clarissa Dimas', 'Edgar Cabrera', 'Briana Franco'}\n",
      "{'Esther Lopez', 'Ricardo Perez', 'Noemi Franco'}\n",
      "{'Ruben Jr. Villalobos-Ulloa', 'Stephanie Abarca-Lopez', 'Sara Madriz'}\n",
      "{'Janet Sanchez', 'Jacqueline Barajas', 'Monserrat Garcia', 'Prab Kaur Chhina'}\n",
      "\n",
      "   Group Trial: 6\n",
      "{'Alejandra Benavides Fuentes', 'Ricardo Perez', 'Edgar Cabrera', 'Stephanie Abarca-Lopez'}\n",
      "{'Noemi Franco', 'Jessie Lorenzo', 'Jacqueline Barajas'}\n",
      "{'Johnathan Conrique', 'Clarissa Dimas', 'Janet Sanchez', 'Eric Medrano'}\n",
      "{'Abril Rodriguez', 'Kelly Argueta', 'Esther Lopez', 'Alondra Romero'}\n",
      "{'Ricardo Marquez', 'Ruben Jr. Villalobos-Ulloa', 'Monserrat Garcia'}\n",
      "{'Briana Franco', 'Sara Madriz', 'Iran Valladares-Fuentes', 'Prab Kaur Chhina'}\n",
      "\n",
      "   Group Trial: 7\n",
      "{'Edgar Cabrera', 'Iran Valladares-Fuentes', 'Briana Franco', 'Stephanie Abarca-Lopez'}\n",
      "{'Ricardo Perez', 'Monserrat Garcia', 'Jessie Lorenzo', 'Jacqueline Barajas'}\n",
      "{'Kelly Argueta', 'Esther Lopez', 'Noemi Franco'}\n",
      "{'Ruben Jr. Villalobos-Ulloa', 'Janet Sanchez', 'Abril Rodriguez', 'Alondra Romero'}\n",
      "{'Ricardo Marquez', 'Alejandra Benavides Fuentes', 'Clarissa Dimas'}\n",
      "{'Johnathan Conrique', 'Prab Kaur Chhina', 'Eric Medrano', 'Sara Madriz'}\n",
      "\n",
      "   Group Trial: 8\n",
      "{'Abril Rodriguez', 'Ruben Jr. Villalobos-Ulloa', 'Prab Kaur Chhina', 'Alondra Romero'}\n",
      "{'Janet Sanchez', 'Monserrat Garcia', 'Sara Madriz'}\n",
      "{'Johnathan Conrique', 'Ricardo Perez', 'Edgar Cabrera'}\n",
      "{'Alejandra Benavides Fuentes', 'Esther Lopez', 'Clarissa Dimas', 'Briana Franco'}\n",
      "{'Kelly Argueta', 'Iran Valladares-Fuentes', 'Stephanie Abarca-Lopez', 'Jessie Lorenzo'}\n",
      "{'Ricardo Marquez', 'Noemi Franco', 'Eric Medrano', 'Jacqueline Barajas'}\n",
      "\n",
      "   Group Trial: 9\n",
      "{'Abril Rodriguez', 'Kelly Argueta', 'Briana Franco', 'Jessie Lorenzo'}\n",
      "{'Monserrat Garcia', 'Esther Lopez', 'Edgar Cabrera', 'Alondra Romero'}\n",
      "{'Clarissa Dimas', 'Iran Valladares-Fuentes', 'Stephanie Abarca-Lopez', 'Prab Kaur Chhina'}\n",
      "{'Alejandra Benavides Fuentes', 'Johnathan Conrique', 'Ricardo Perez'}\n",
      "{'Ricardo Marquez', 'Janet Sanchez', 'Ruben Jr. Villalobos-Ulloa'}\n",
      "{'Jacqueline Barajas', 'Noemi Franco', 'Eric Medrano', 'Sara Madriz'}\n"
     ]
    }
   ],
   "source": [
    "index_list = list(student_df.index)\n",
    "\n",
    "\n",
    "\n",
    "for i in range(10):\n",
    "    randomized_index_list = np.random.choice(index_list, size = len(index_list),replace=False)\n",
    "    group_set = set({})\n",
    "    index_track = 0\n",
    "    for num in size_list:\n",
    "        \n",
    "        j = frozenset(randomized_index_list[0 + index_track:index_track+num])\n",
    "        group_set.add(j)\n",
    "        index_track += num\n",
    "    \n",
    "    print('\\n   Group Trial:', i)\n",
    "    for group in group_set:\n",
    "        unfrozen = set(group)\n",
    "        print(unfrozen)\n",
    "#         print(unfrozen)\n",
    "    \n",
    "    \n",
    "\n",
    "\n",
    "    "
   ]
  },
  {
   "cell_type": "code",
   "execution_count": 535,
   "metadata": {},
   "outputs": [],
   "source": [
    "j = set(randomized_index_list[0:3])"
   ]
  },
  {
   "cell_type": "code",
   "execution_count": 536,
   "metadata": {},
   "outputs": [
    {
     "data": {
      "text/plain": [
       "{'Briana Franco', 'Kelly Argueta', 'Ruben Jr. Villalobos-Ulloa'}"
      ]
     },
     "execution_count": 536,
     "metadata": {},
     "output_type": "execute_result"
    }
   ],
   "source": [
    "j"
   ]
  },
  {
   "cell_type": "code",
   "execution_count": 528,
   "metadata": {},
   "outputs": [
    {
     "data": {
      "text/plain": [
       "['Ruben Jr. Villalobos-Ulloa',\n",
       " 'Iran Valladares-Fuentes',\n",
       " 'Janet Sanchez',\n",
       " 'Abril Rodriguez',\n",
       " 'Ricardo Perez',\n",
       " 'Esther Lopez',\n",
       " 'Clarissa Dimas',\n",
       " 'Johnathan Conrique',\n",
       " 'Kelly Argueta',\n",
       " 'Jacqueline Barajas',\n",
       " 'Eric Medrano',\n",
       " 'Stephanie Abarca-Lopez',\n",
       " 'Alondra Romero',\n",
       " 'Ricardo Marquez',\n",
       " 'Alejandra Benavides Fuentes',\n",
       " 'Edgar Cabrera',\n",
       " 'Monserrat Garcia',\n",
       " 'Noemi Franco',\n",
       " 'Sara Madriz',\n",
       " 'Jessie Lorenzo',\n",
       " 'Prab Kaur Chhina',\n",
       " 'Briana Franco']"
      ]
     },
     "execution_count": 528,
     "metadata": {},
     "output_type": "execute_result"
    }
   ],
   "source": [
    "index_list"
   ]
  },
  {
   "cell_type": "code",
   "execution_count": 533,
   "metadata": {},
   "outputs": [],
   "source": []
  },
  {
   "cell_type": "code",
   "execution_count": 534,
   "metadata": {},
   "outputs": [
    {
     "data": {
      "text/plain": [
       "array(['Briana Franco', 'Kelly Argueta', 'Ruben Jr. Villalobos-Ulloa',\n",
       "       'Stephanie Abarca-Lopez', 'Janet Sanchez', 'Clarissa Dimas',\n",
       "       'Edgar Cabrera', 'Alondra Romero', 'Johnathan Conrique',\n",
       "       'Prab Kaur Chhina', 'Monserrat Garcia', 'Noemi Franco',\n",
       "       'Ricardo Perez', 'Ricardo Marquez', 'Iran Valladares-Fuentes',\n",
       "       'Jessie Lorenzo', 'Jacqueline Barajas', 'Abril Rodriguez',\n",
       "       'Eric Medrano', 'Alejandra Benavides Fuentes', 'Sara Madriz',\n",
       "       'Esther Lopez'], dtype='<U27')"
      ]
     },
     "execution_count": 534,
     "metadata": {},
     "output_type": "execute_result"
    }
   ],
   "source": [
    "randomized_index_list"
   ]
  },
  {
   "cell_type": "code",
   "execution_count": 523,
   "metadata": {},
   "outputs": [],
   "source": [
    "# from itertools import combinations\n",
    "\n",
    "# size_of_groups = 3\n",
    "\n",
    "# for index in list(combinations(df.index,size_of_groups)):\n",
    "\n",
    "#     print(df.loc[index,:]['score'])\n",
    "#     loss = 0\n",
    "    \n",
    "#     avg_score = np.mean(df.loc[index,:]['score'])\n",
    "#     for i in range(size_of_groups):\n",
    "#         loss += (df.loc[index,:]['score'][i] - avg_score) ** 2\n",
    "#     print(\"Loss:\",loss)\n",
    "    \n",
    "#     print('\\n')\n",
    "    \n",
    "    "
   ]
  },
  {
   "cell_type": "code",
   "execution_count": 483,
   "metadata": {},
   "outputs": [],
   "source": [
    "team_list = []\n",
    "\n",
    "df = student_df.copy()\n",
    "for i in range(8):\n",
    "    x = z.sample(n = 3) \n",
    "\n",
    "    team_list.append(x.index)\n"
   ]
  },
  {
   "cell_type": "code",
   "execution_count": 482,
   "metadata": {},
   "outputs": [
    {
     "data": {
      "text/plain": [
       "[Index(['Janet Sanchez', 'Iran Valladares-Fuentes', 'Monserrat Garcia'], dtype='object', name='name'),\n",
       " Index(['Janet Sanchez', 'Johnathan Conrique', 'Monserrat Garcia'], dtype='object', name='name'),\n",
       " Index(['Abril Rodriguez', 'Stephanie Abarca-Lopez', 'Clarissa Dimas'], dtype='object', name='name'),\n",
       " Index(['Stephanie Abarca-Lopez', 'Janet Sanchez', 'Kelly Argueta'], dtype='object', name='name'),\n",
       " Index(['Monserrat Garcia', 'Iran Valladares-Fuentes', 'Briana Franco'], dtype='object', name='name'),\n",
       " Index(['Iran Valladares-Fuentes', 'Edgar Cabrera', 'Briana Franco'], dtype='object', name='name'),\n",
       " Index(['Janet Sanchez', 'Clarissa Dimas', 'Briana Franco'], dtype='object', name='name'),\n",
       " Index(['Noemi Franco', 'Monserrat Garcia', 'Iran Valladares-Fuentes'], dtype='object', name='name')]"
      ]
     },
     "execution_count": 482,
     "metadata": {},
     "output_type": "execute_result"
    }
   ],
   "source": [
    "team_list"
   ]
  },
  {
   "cell_type": "code",
   "execution_count": null,
   "metadata": {
    "scrolled": true
   },
   "outputs": [],
   "source": []
  },
  {
   "cell_type": "code",
   "execution_count": null,
   "metadata": {},
   "outputs": [],
   "source": []
  },
  {
   "cell_type": "code",
   "execution_count": 402,
   "metadata": {},
   "outputs": [],
   "source": [
    "# student_df_clustered = add_clusters(student_df,num_clusters)\n",
    "# student_df_clustered.head(5)"
   ]
  },
  {
   "cell_type": "code",
   "execution_count": 403,
   "metadata": {},
   "outputs": [],
   "source": [
    "# SSE = []\n",
    "# for cluster in range(1,20):\n",
    "#     kmeans = KMeans(n_jobs = -1, n_clusters = cluster, init='k-means++')\n",
    "#     kmeans.fit(student_df)\n",
    "#     SSE.append(kmeans.inertia_)\n",
    "\n",
    "# # converting the results into a dataframe and plotting them\n",
    "# frame = pd.DataFrame({'Cluster':range(1,20), 'SSE':SSE})\n",
    "# plt.figure(figsize=(12,6))\n",
    "# plt.plot(frame['Cluster'], frame['SSE'], marker='o')\n",
    "# plt.xlabel('Number of clusters')\n",
    "# plt.ylabel('Inertia')"
   ]
  },
  {
   "cell_type": "code",
   "execution_count": null,
   "metadata": {},
   "outputs": [],
   "source": []
  }
 ],
 "metadata": {
  "kernelspec": {
   "display_name": "Python 3",
   "language": "python",
   "name": "python3"
  },
  "language_info": {
   "codemirror_mode": {
    "name": "ipython",
    "version": 3
   },
   "file_extension": ".py",
   "mimetype": "text/x-python",
   "name": "python",
   "nbconvert_exporter": "python",
   "pygments_lexer": "ipython3",
   "version": "3.7.3"
  }
 },
 "nbformat": 4,
 "nbformat_minor": 2
}
